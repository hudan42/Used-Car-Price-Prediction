{
 "cells": [
  {
   "cell_type": "code",
   "execution_count": 126,
   "metadata": {},
   "outputs": [],
   "source": [
    "import pandas as pd\n",
    "import numpy as np\n",
    "import matplotlib.pyplot as plt\n",
    "from sklearn.preprocessing import MinMaxScaler, OrdinalEncoder\n",
    "from sklearn.model_selection import train_test_split, KFold, GridSearchCV\n",
    "from sklearn.metrics import r2_score, mean_squared_error, mean_absolute_error\n",
    "from sklearn.experimental import enable_iterative_imputer\n",
    "from sklearn.impute import IterativeImputer, SimpleImputer\n",
    "import random\n",
    "# from xgboost import XGBRegressor\n",
    "from sklearn.ensemble import IsolationForest, RandomForestRegressor, GradientBoostingRegressor\n",
    "import pickle"
   ]
  },
  {
   "cell_type": "code",
   "execution_count": 2,
   "metadata": {},
   "outputs": [
    {
     "name": "stdout",
     "output_type": "stream",
     "text": [
      "<class 'pandas.core.frame.DataFrame'>\n",
      "RangeIndex: 3179 entries, 0 to 3178\n",
      "Data columns (total 16 columns):\n",
      "post_time             3169 non-null object\n",
      "price                 3003 non-null object\n",
      "title                 3169 non-null object\n",
      "VIN                   2099 non-null object\n",
      "condition             1829 non-null object\n",
      "cylinders             1709 non-null object\n",
      "drive                 2341 non-null object\n",
      "fuel                  3164 non-null object\n",
      "odometer              2714 non-null float64\n",
      "paint color           2326 non-null object\n",
      "size                  913 non-null object\n",
      "title status          3169 non-null object\n",
      "transmission          3128 non-null object\n",
      "type                  2496 non-null object\n",
      "delivery available    0 non-null float64\n",
      "cryptocurrency ok     0 non-null float64\n",
      "dtypes: float64(3), object(13)\n",
      "memory usage: 397.5+ KB\n"
     ]
    }
   ],
   "source": [
    "# Read in the data.\n",
    "df = pd.read_csv('craigslist_car.csv')\n",
    "\n",
    "df.info()"
   ]
  },
  {
   "cell_type": "code",
   "execution_count": 3,
   "metadata": {},
   "outputs": [
    {
     "data": {
      "text/plain": [
       "post_time               10\n",
       "price                  176\n",
       "title                   10\n",
       "VIN                   1080\n",
       "condition             1350\n",
       "cylinders             1470\n",
       "drive                  838\n",
       "fuel                    15\n",
       "odometer               465\n",
       "paint color            853\n",
       "size                  2266\n",
       "title status            10\n",
       "transmission            51\n",
       "type                   683\n",
       "delivery available    3179\n",
       "cryptocurrency ok     3179\n",
       "dtype: int64"
      ]
     },
     "execution_count": 3,
     "metadata": {},
     "output_type": "execute_result"
    }
   ],
   "source": [
    "# Count the number of missing values in the dataset.\n",
    "df.isnull().sum(axis = 0)"
   ]
  },
  {
   "cell_type": "code",
   "execution_count": 4,
   "metadata": {},
   "outputs": [
    {
     "data": {
      "text/plain": [
       "(3003, 16)"
      ]
     },
     "execution_count": 4,
     "metadata": {},
     "output_type": "execute_result"
    }
   ],
   "source": [
    "# Price is our target variable, there are 176 missing values in price variable. I would drop them our here.\n",
    "df.dropna(subset=['price'], inplace = True)\n",
    "\n",
    "df.shape"
   ]
  },
  {
   "cell_type": "code",
   "execution_count": 5,
   "metadata": {},
   "outputs": [],
   "source": [
    "#Because delivery available and cryptocurrency ok feaures are null value, drop them directly\n",
    "#All used cars listed in craiglist have cleant title.\n",
    "#VIN is the vehicle identification number, it doesn't have impact on price\n",
    "df.drop(['delivery available','cryptocurrency ok','title status','VIN','post_time'],axis=1,inplace=True)"
   ]
  },
  {
   "cell_type": "code",
   "execution_count": 6,
   "metadata": {},
   "outputs": [
    {
     "data": {
      "text/html": [
       "<div>\n",
       "<style scoped>\n",
       "    .dataframe tbody tr th:only-of-type {\n",
       "        vertical-align: middle;\n",
       "    }\n",
       "\n",
       "    .dataframe tbody tr th {\n",
       "        vertical-align: top;\n",
       "    }\n",
       "\n",
       "    .dataframe thead th {\n",
       "        text-align: right;\n",
       "    }\n",
       "</style>\n",
       "<table border=\"1\" class=\"dataframe\">\n",
       "  <thead>\n",
       "    <tr style=\"text-align: right;\">\n",
       "      <th></th>\n",
       "      <th>price</th>\n",
       "      <th>title</th>\n",
       "      <th>condition</th>\n",
       "      <th>cylinders</th>\n",
       "      <th>drive</th>\n",
       "      <th>fuel</th>\n",
       "      <th>odometer</th>\n",
       "      <th>paint color</th>\n",
       "      <th>size</th>\n",
       "      <th>transmission</th>\n",
       "      <th>type</th>\n",
       "    </tr>\n",
       "  </thead>\n",
       "  <tbody>\n",
       "    <tr>\n",
       "      <th>0</th>\n",
       "      <td>$8499</td>\n",
       "      <td>2007 toyota prius</td>\n",
       "      <td>excellent</td>\n",
       "      <td>4 cylinders</td>\n",
       "      <td>fwd</td>\n",
       "      <td>gas</td>\n",
       "      <td>80409.0</td>\n",
       "      <td>white</td>\n",
       "      <td>compact</td>\n",
       "      <td>automatic</td>\n",
       "      <td>hatchback</td>\n",
       "    </tr>\n",
       "    <tr>\n",
       "      <th>1</th>\n",
       "      <td>$13950</td>\n",
       "      <td>2017 Nissan Altima</td>\n",
       "      <td>excellent</td>\n",
       "      <td>4 cylinders</td>\n",
       "      <td>fwd</td>\n",
       "      <td>gas</td>\n",
       "      <td>42028.0</td>\n",
       "      <td>black</td>\n",
       "      <td>full-size</td>\n",
       "      <td>automatic</td>\n",
       "      <td>sedan</td>\n",
       "    </tr>\n",
       "    <tr>\n",
       "      <th>2</th>\n",
       "      <td>$7995</td>\n",
       "      <td>2008 Toyota Yaris</td>\n",
       "      <td>NaN</td>\n",
       "      <td>NaN</td>\n",
       "      <td>NaN</td>\n",
       "      <td>gas</td>\n",
       "      <td>NaN</td>\n",
       "      <td>NaN</td>\n",
       "      <td>NaN</td>\n",
       "      <td>automatic</td>\n",
       "      <td>NaN</td>\n",
       "    </tr>\n",
       "    <tr>\n",
       "      <th>3</th>\n",
       "      <td>$34800</td>\n",
       "      <td>2017 lexus nx</td>\n",
       "      <td>NaN</td>\n",
       "      <td>NaN</td>\n",
       "      <td>NaN</td>\n",
       "      <td>other</td>\n",
       "      <td>NaN</td>\n",
       "      <td>NaN</td>\n",
       "      <td>NaN</td>\n",
       "      <td>other</td>\n",
       "      <td>NaN</td>\n",
       "    </tr>\n",
       "    <tr>\n",
       "      <th>4</th>\n",
       "      <td>$4995</td>\n",
       "      <td>1992 chevy c3500 crew cab</td>\n",
       "      <td>good</td>\n",
       "      <td>8 cylinders</td>\n",
       "      <td>rwd</td>\n",
       "      <td>gas</td>\n",
       "      <td>165000.0</td>\n",
       "      <td>red</td>\n",
       "      <td>full-size</td>\n",
       "      <td>automatic</td>\n",
       "      <td>pickup</td>\n",
       "    </tr>\n",
       "  </tbody>\n",
       "</table>\n",
       "</div>"
      ],
      "text/plain": [
       "    price                      title  condition    cylinders drive   fuel  \\\n",
       "0   $8499          2007 toyota prius  excellent  4 cylinders   fwd    gas   \n",
       "1  $13950         2017 Nissan Altima  excellent  4 cylinders   fwd    gas   \n",
       "2   $7995          2008 Toyota Yaris        NaN          NaN   NaN    gas   \n",
       "3  $34800              2017 lexus nx        NaN          NaN   NaN  other   \n",
       "4   $4995  1992 chevy c3500 crew cab       good  8 cylinders   rwd    gas   \n",
       "\n",
       "   odometer paint color       size transmission       type  \n",
       "0   80409.0       white    compact    automatic  hatchback  \n",
       "1   42028.0       black  full-size    automatic      sedan  \n",
       "2       NaN         NaN        NaN    automatic        NaN  \n",
       "3       NaN         NaN        NaN        other        NaN  \n",
       "4  165000.0         red  full-size    automatic     pickup  "
      ]
     },
     "execution_count": 6,
     "metadata": {},
     "output_type": "execute_result"
    }
   ],
   "source": [
    "# Drop rows where all values are NA.\n",
    "df.dropna(how = 'all', inplace=True)\n",
    "\n",
    "# Drop columns where all values are NA.\n",
    "df.dropna(axis = 1, how = 'all', inplace=True)\n",
    "\n",
    "df.head()"
   ]
  },
  {
   "cell_type": "markdown",
   "metadata": {},
   "source": [
    "### Split data into a training set and a test set, using 80 vs. 20 split"
   ]
  },
  {
   "cell_type": "code",
   "execution_count": 7,
   "metadata": {},
   "outputs": [
    {
     "data": {
      "text/plain": [
       "((2402, 11), (601, 11))"
      ]
     },
     "execution_count": 7,
     "metadata": {},
     "output_type": "execute_result"
    }
   ],
   "source": [
    "train_raw, test_raw = train_test_split(df, test_size = 0.2, random_state = 2020)\n",
    "\n",
    "train_raw.shape, test_raw.shape"
   ]
  },
  {
   "cell_type": "code",
   "execution_count": 8,
   "metadata": {},
   "outputs": [],
   "source": [
    "train_raw.reset_index(inplace=True)\n",
    "test_raw.reset_index(inplace=True)"
   ]
  },
  {
   "cell_type": "markdown",
   "metadata": {},
   "source": [
    "### Data preprocessing and feature engineering"
   ]
  },
  {
   "cell_type": "code",
   "execution_count": 9,
   "metadata": {},
   "outputs": [],
   "source": [
    "class Transformer:\n",
    "    def fit(self, X, y = None):\n",
    "        pass\n",
    "    \n",
    "    def transform(self, X, y = None):\n",
    "        df = pd.DataFrame()\n",
    "        df['price'] = X.price.map(self.price_to_num)\n",
    "        df['year'] = X.title.map(self.get_vehicle_year)\n",
    "        df['maker'] = X.title.map(self.get_vehicle_maker)\n",
    "        df = pd.concat([df, X.loc[:,'condition':'fuel']], axis = 1)\n",
    "        df['cylinders'] = df.cylinders.map(self.cylinder_to_num)\n",
    "        df['odometer'] = X.odometer.map(self.odometer_to_num)\n",
    "        df = pd.concat([df, X.loc[:,'paint color':'type']], axis = 1)\n",
    "        \n",
    "        # Transform all string typed columns into lower cases.\n",
    "        df = df.applymap(lambda x: x.lower() if type(x) == str else x)\n",
    "        \n",
    "        return df\n",
    "        \n",
    "    \n",
    "    def fit_transform(self, X, y = None):\n",
    "        self.fit(X)\n",
    "        return self.transform(X)\n",
    "    \n",
    "#####################################################################    \n",
    "\n",
    "    def price_to_num(self, x):\n",
    "        if type(x) == str:\n",
    "            x = float(x.strip('$'))\n",
    "        return x\n",
    "    \n",
    "    def get_vehicle_year(self, x):\n",
    "        if type(x) == str:\n",
    "            x = x.split()[0]\n",
    "        return int(x)\n",
    "    \n",
    "    def get_vehicle_maker(self, x):\n",
    "        if type(x) == str:\n",
    "            s = x.split()\n",
    "            x = s[1].lower()\n",
    "            if x.isnumeric() and len(s) > 2:\n",
    "                x = s[2].lower()\n",
    "        return x\n",
    "    \n",
    "    def cylinder_to_num(self, x):\n",
    "        if type(x) == str and x != 'other':\n",
    "            x = int(x.split()[0])\n",
    "        else:\n",
    "            x = None\n",
    "        return x\n",
    "    \n",
    "    \n",
    "    def odometer_to_num(self, x):\n",
    "        if type(x) == str:\n",
    "            x = float(x)\n",
    "        return x"
   ]
  },
  {
   "cell_type": "code",
   "execution_count": 10,
   "metadata": {
    "scrolled": true
   },
   "outputs": [
    {
     "data": {
      "text/html": [
       "<div>\n",
       "<style scoped>\n",
       "    .dataframe tbody tr th:only-of-type {\n",
       "        vertical-align: middle;\n",
       "    }\n",
       "\n",
       "    .dataframe tbody tr th {\n",
       "        vertical-align: top;\n",
       "    }\n",
       "\n",
       "    .dataframe thead th {\n",
       "        text-align: right;\n",
       "    }\n",
       "</style>\n",
       "<table border=\"1\" class=\"dataframe\">\n",
       "  <thead>\n",
       "    <tr style=\"text-align: right;\">\n",
       "      <th></th>\n",
       "      <th>price</th>\n",
       "      <th>year</th>\n",
       "      <th>maker</th>\n",
       "      <th>condition</th>\n",
       "      <th>cylinders</th>\n",
       "      <th>drive</th>\n",
       "      <th>fuel</th>\n",
       "      <th>odometer</th>\n",
       "      <th>paint color</th>\n",
       "      <th>size</th>\n",
       "      <th>transmission</th>\n",
       "      <th>type</th>\n",
       "    </tr>\n",
       "  </thead>\n",
       "  <tbody>\n",
       "    <tr>\n",
       "      <th>0</th>\n",
       "      <td>19800.0</td>\n",
       "      <td>2000</td>\n",
       "      <td>ford</td>\n",
       "      <td>excellent</td>\n",
       "      <td>8.0</td>\n",
       "      <td>rwd</td>\n",
       "      <td>gas</td>\n",
       "      <td>75000.0</td>\n",
       "      <td>silver</td>\n",
       "      <td>full-size</td>\n",
       "      <td>automatic</td>\n",
       "      <td>truck</td>\n",
       "    </tr>\n",
       "    <tr>\n",
       "      <th>1</th>\n",
       "      <td>3990.0</td>\n",
       "      <td>2008</td>\n",
       "      <td>ford</td>\n",
       "      <td>NaN</td>\n",
       "      <td>NaN</td>\n",
       "      <td>NaN</td>\n",
       "      <td>gas</td>\n",
       "      <td>NaN</td>\n",
       "      <td>NaN</td>\n",
       "      <td>NaN</td>\n",
       "      <td>automatic</td>\n",
       "      <td>NaN</td>\n",
       "    </tr>\n",
       "    <tr>\n",
       "      <th>2</th>\n",
       "      <td>5400.0</td>\n",
       "      <td>2006</td>\n",
       "      <td>lexus</td>\n",
       "      <td>excellent</td>\n",
       "      <td>NaN</td>\n",
       "      <td>NaN</td>\n",
       "      <td>gas</td>\n",
       "      <td>190000.0</td>\n",
       "      <td>NaN</td>\n",
       "      <td>NaN</td>\n",
       "      <td>automatic</td>\n",
       "      <td>NaN</td>\n",
       "    </tr>\n",
       "    <tr>\n",
       "      <th>3</th>\n",
       "      <td>4995.0</td>\n",
       "      <td>2011</td>\n",
       "      <td>ford</td>\n",
       "      <td>good</td>\n",
       "      <td>6.0</td>\n",
       "      <td>fwd</td>\n",
       "      <td>gas</td>\n",
       "      <td>127767.0</td>\n",
       "      <td>NaN</td>\n",
       "      <td>mid-size</td>\n",
       "      <td>automatic</td>\n",
       "      <td>sedan</td>\n",
       "    </tr>\n",
       "    <tr>\n",
       "      <th>4</th>\n",
       "      <td>5000.0</td>\n",
       "      <td>2003</td>\n",
       "      <td>bmw</td>\n",
       "      <td>excellent</td>\n",
       "      <td>8.0</td>\n",
       "      <td>4wd</td>\n",
       "      <td>gas</td>\n",
       "      <td>114734.0</td>\n",
       "      <td>silver</td>\n",
       "      <td>full-size</td>\n",
       "      <td>automatic</td>\n",
       "      <td>suv</td>\n",
       "    </tr>\n",
       "  </tbody>\n",
       "</table>\n",
       "</div>"
      ],
      "text/plain": [
       "     price  year  maker  condition  cylinders drive fuel  odometer  \\\n",
       "0  19800.0  2000   ford  excellent        8.0   rwd  gas   75000.0   \n",
       "1   3990.0  2008   ford        NaN        NaN   NaN  gas       NaN   \n",
       "2   5400.0  2006  lexus  excellent        NaN   NaN  gas  190000.0   \n",
       "3   4995.0  2011   ford       good        6.0   fwd  gas  127767.0   \n",
       "4   5000.0  2003    bmw  excellent        8.0   4wd  gas  114734.0   \n",
       "\n",
       "  paint color       size transmission   type  \n",
       "0      silver  full-size    automatic  truck  \n",
       "1         NaN        NaN    automatic    NaN  \n",
       "2         NaN        NaN    automatic    NaN  \n",
       "3         NaN   mid-size    automatic  sedan  \n",
       "4      silver  full-size    automatic    suv  "
      ]
     },
     "execution_count": 10,
     "metadata": {},
     "output_type": "execute_result"
    }
   ],
   "source": [
    "# Example.\n",
    "train_new = Transformer().fit_transform(train_raw)\n",
    "\n",
    "train_new.head()"
   ]
  },
  {
   "cell_type": "code",
   "execution_count": 11,
   "metadata": {},
   "outputs": [
    {
     "data": {
      "text/plain": [
       "array(['truck', nan, 'sedan', 'suv', 'convertible', 'hatchback', 'coupe',\n",
       "       'pickup', 'other', 'van', 'wagon', 'offroad', 'mini-van', 'bus'],\n",
       "      dtype=object)"
      ]
     },
     "execution_count": 11,
     "metadata": {},
     "output_type": "execute_result"
    }
   ],
   "source": [
    "train_new['type'].unique()"
   ]
  },
  {
   "cell_type": "code",
   "execution_count": 19,
   "metadata": {},
   "outputs": [
    {
     "data": {
      "text/plain": [
       "(2392, 13)"
      ]
     },
     "execution_count": 19,
     "metadata": {},
     "output_type": "execute_result"
    }
   ],
   "source": [
    "train_new = train_new[train_new.price > 1].reset_index()\n",
    "train_new.shape"
   ]
  },
  {
   "cell_type": "code",
   "execution_count": 20,
   "metadata": {},
   "outputs": [],
   "source": [
    "class Encoder:\n",
    "    '''\n",
    "    This class will encode categorical vairables into appropriate forms.\n",
    "    '''\n",
    "    def fit(self, X, y = None):\n",
    "        df = X.copy()\n",
    "    \n",
    "        # Get the frequency dict of car maker\n",
    "        self.freq_maker = self.encode_maker_type(df.maker)\n",
    "        # Get the frequency dict of car type\n",
    "        self.freq_type = self.encode_maker_type(df.type)\n",
    "    \n",
    "    def transform(self, X, y = None):\n",
    "        df = X.copy()\n",
    "        \n",
    "        # Get the indexes where fuel type is equal to 'electric'\n",
    "        electric_idx = np.where(df.fuel == 'electric')[0]\n",
    "        # Impute missing values in cylinders variable with 0 where the according fuel type is electric.\n",
    "        df.cylinders.loc[electric_idx, ] = 0\n",
    "        \n",
    "        df.condition = df.condition.map(self.encode_condition)\n",
    "        \n",
    "        color_tmp = self.encode_color(df['paint color'])\n",
    "        df = pd.concat([df, color_tmp], axis = 1)\n",
    "        \n",
    "        \n",
    "        # Clean makers.\n",
    "        correct_makers = {'impala':'chevrolet','mercedes':'mercedes-benz','mini':'mini-cooper','volkswagon':'volkswagen',\n",
    "                  'alfa':'alfa-romeo','caddilac':'cadillac','mustang':'ford','kentworth':'kenworth','vw':'volkswagen',\n",
    "                  'cadilac':'cadillac','savana':'gmc','chrystler':'chrysler','toyt':'toyota','jetta':'volkswagen',\n",
    "                  'infinity':'infiniti','magnum':'dodge','volkwagen':'volkswagen','tahoe':'chevrolet',\n",
    "                  'toyoya':'toyota','posche':'porsche','toyata':'toyota','chevelle':'chevrolet',\n",
    "                  'camry':'toyota','f-350':'ford','535x':'bmw','gnc':'gmc','gto':'pontiac','528i':'bmw',\n",
    "                  'sr5':'toyota','camero':'chevrolet','2007':'ford','corvette':'chevrolet',\n",
    "                  'olds':'oldsmobile-cutlass','mighty':'mitsubishi','range':'land-rover','ve':'volvo',\n",
    "                  'land':'land-rover','gt':'bmw'}\n",
    "        df['maker'] = df.maker.replace(correct_makers)        \n",
    "\n",
    "        \n",
    "        # Add car maker frequency column to the dataframe\n",
    "        df['maker'] = df.maker.map(lambda x: self.freq_maker.get(x, None))\n",
    "        \n",
    "         \n",
    "        # Add car type frequency column to the dataframe\n",
    "        df['type'] = df.type.map(lambda x: self.freq_type.get(x, None))\n",
    "        \n",
    "        df['size'] = df['size'].map(self.encode_size)\n",
    "        \n",
    "        dummy_drive = pd.get_dummies(df.drive, prefix='drive')\n",
    "        dummy_fuel = pd.get_dummies(df.fuel, prefix='fuel')\n",
    "        dummy_transmission = pd.get_dummies(df.transmission, prefix='transmission')\n",
    "        df = pd.concat([df, dummy_drive, dummy_fuel, dummy_transmission], axis = 1)              \n",
    "        \n",
    "        # Drop the original columns.\n",
    "        df.drop(['paint color', 'drive', 'fuel', 'transmission'], axis = 1, inplace = True)\n",
    "\n",
    "        \n",
    "        return df\n",
    "    \n",
    "    def fit_transform(self, X, y = None):\n",
    "        self.fit(X)\n",
    "        return self.transform(X)\n",
    "    \n",
    "#########################################################################################\n",
    "\n",
    "    def encode_condition(self, x):\n",
    "        ords = {'salvage': 0, 'fair': 1, 'good': 2, 'like new': 3, 'new': 4, 'excellent': 5}\n",
    "        if type(x) == str:\n",
    "            x = ords[x]\n",
    "        return x\n",
    "    \n",
    "    \n",
    "    def encode_color(self, S):\n",
    "        rgb = {'silver': [192, 192, 192], 'red': [255, 0, 0], 'black': [0, 0, 0], 'brown': [165, 42, 42], 'grey': [128, 128, 128], \n",
    "      'white': [255, 255, 255], 'blue': [0, 0, 255], 'green': [0, 128, 0], 'orange': [255, 165, 0], 'yellow': [255, 255, 0], \n",
    "      'purple': [128, 0, 128], 'custom': [random.randint(0, 255), random.randint(0, 255), random.randint(0, 255)]}\n",
    "        \n",
    "        color_rgb = []\n",
    "        for c in S:\n",
    "            if type(c) == str:\n",
    "                color_rgb.append(rgb[c])\n",
    "            else:\n",
    "                color_rgb.append([np.nan] * 3)\n",
    "\n",
    "        color_df = pd.DataFrame(color_rgb, columns=['color_r', 'color_g', 'color_b'])\n",
    "        return color_df    \n",
    "     \n",
    "    \n",
    "    def encode_maker_type(self, X, y=None):\n",
    "        '''\n",
    "        Transform car maker into their frequency in the dataset.\n",
    "        '''\n",
    "        freq_dict = {}\n",
    "        for item in X:\n",
    "            if item in freq_dict:\n",
    "                freq_dict[item] += 1\n",
    "            else:\n",
    "                freq_dict[item] = 1\n",
    "        return freq_dict\n",
    "    \n",
    "    \n",
    "    def encode_size(self, x):\n",
    "        ords = {'full-size': 4, 'mid-size': 3, 'compact': 2, 'sub-compact': 1}\n",
    "        if type(x) == str:\n",
    "            x = ords[x]\n",
    "        return x"
   ]
  },
  {
   "cell_type": "code",
   "execution_count": null,
   "metadata": {},
   "outputs": [],
   "source": []
  },
  {
   "cell_type": "code",
   "execution_count": 21,
   "metadata": {
    "scrolled": true
   },
   "outputs": [
    {
     "data": {
      "text/html": [
       "<div>\n",
       "<style scoped>\n",
       "    .dataframe tbody tr th:only-of-type {\n",
       "        vertical-align: middle;\n",
       "    }\n",
       "\n",
       "    .dataframe tbody tr th {\n",
       "        vertical-align: top;\n",
       "    }\n",
       "\n",
       "    .dataframe thead th {\n",
       "        text-align: right;\n",
       "    }\n",
       "</style>\n",
       "<table border=\"1\" class=\"dataframe\">\n",
       "  <thead>\n",
       "    <tr style=\"text-align: right;\">\n",
       "      <th></th>\n",
       "      <th>index</th>\n",
       "      <th>price</th>\n",
       "      <th>year</th>\n",
       "      <th>maker</th>\n",
       "      <th>condition</th>\n",
       "      <th>cylinders</th>\n",
       "      <th>odometer</th>\n",
       "      <th>size</th>\n",
       "      <th>type</th>\n",
       "      <th>color_r</th>\n",
       "      <th>...</th>\n",
       "      <th>drive_fwd</th>\n",
       "      <th>drive_rwd</th>\n",
       "      <th>fuel_diesel</th>\n",
       "      <th>fuel_electric</th>\n",
       "      <th>fuel_gas</th>\n",
       "      <th>fuel_hybrid</th>\n",
       "      <th>fuel_other</th>\n",
       "      <th>transmission_automatic</th>\n",
       "      <th>transmission_manual</th>\n",
       "      <th>transmission_other</th>\n",
       "    </tr>\n",
       "  </thead>\n",
       "  <tbody>\n",
       "    <tr>\n",
       "      <th>0</th>\n",
       "      <td>0</td>\n",
       "      <td>19800.0</td>\n",
       "      <td>2000</td>\n",
       "      <td>293.0</td>\n",
       "      <td>5.0</td>\n",
       "      <td>8.0</td>\n",
       "      <td>75000.0</td>\n",
       "      <td>4.0</td>\n",
       "      <td>91</td>\n",
       "      <td>192.0</td>\n",
       "      <td>...</td>\n",
       "      <td>0</td>\n",
       "      <td>1</td>\n",
       "      <td>0</td>\n",
       "      <td>0</td>\n",
       "      <td>1</td>\n",
       "      <td>0</td>\n",
       "      <td>0</td>\n",
       "      <td>1</td>\n",
       "      <td>0</td>\n",
       "      <td>0</td>\n",
       "    </tr>\n",
       "    <tr>\n",
       "      <th>1</th>\n",
       "      <td>1</td>\n",
       "      <td>3990.0</td>\n",
       "      <td>2008</td>\n",
       "      <td>293.0</td>\n",
       "      <td>NaN</td>\n",
       "      <td>NaN</td>\n",
       "      <td>NaN</td>\n",
       "      <td>NaN</td>\n",
       "      <td>518</td>\n",
       "      <td>NaN</td>\n",
       "      <td>...</td>\n",
       "      <td>0</td>\n",
       "      <td>0</td>\n",
       "      <td>0</td>\n",
       "      <td>0</td>\n",
       "      <td>1</td>\n",
       "      <td>0</td>\n",
       "      <td>0</td>\n",
       "      <td>1</td>\n",
       "      <td>0</td>\n",
       "      <td>0</td>\n",
       "    </tr>\n",
       "    <tr>\n",
       "      <th>2</th>\n",
       "      <td>2</td>\n",
       "      <td>5400.0</td>\n",
       "      <td>2006</td>\n",
       "      <td>99.0</td>\n",
       "      <td>5.0</td>\n",
       "      <td>NaN</td>\n",
       "      <td>190000.0</td>\n",
       "      <td>NaN</td>\n",
       "      <td>518</td>\n",
       "      <td>NaN</td>\n",
       "      <td>...</td>\n",
       "      <td>0</td>\n",
       "      <td>0</td>\n",
       "      <td>0</td>\n",
       "      <td>0</td>\n",
       "      <td>1</td>\n",
       "      <td>0</td>\n",
       "      <td>0</td>\n",
       "      <td>1</td>\n",
       "      <td>0</td>\n",
       "      <td>0</td>\n",
       "    </tr>\n",
       "    <tr>\n",
       "      <th>3</th>\n",
       "      <td>3</td>\n",
       "      <td>4995.0</td>\n",
       "      <td>2011</td>\n",
       "      <td>293.0</td>\n",
       "      <td>2.0</td>\n",
       "      <td>6.0</td>\n",
       "      <td>127767.0</td>\n",
       "      <td>3.0</td>\n",
       "      <td>644</td>\n",
       "      <td>NaN</td>\n",
       "      <td>...</td>\n",
       "      <td>1</td>\n",
       "      <td>0</td>\n",
       "      <td>0</td>\n",
       "      <td>0</td>\n",
       "      <td>1</td>\n",
       "      <td>0</td>\n",
       "      <td>0</td>\n",
       "      <td>1</td>\n",
       "      <td>0</td>\n",
       "      <td>0</td>\n",
       "    </tr>\n",
       "    <tr>\n",
       "      <th>4</th>\n",
       "      <td>4</td>\n",
       "      <td>5000.0</td>\n",
       "      <td>2003</td>\n",
       "      <td>113.0</td>\n",
       "      <td>5.0</td>\n",
       "      <td>8.0</td>\n",
       "      <td>114734.0</td>\n",
       "      <td>4.0</td>\n",
       "      <td>361</td>\n",
       "      <td>192.0</td>\n",
       "      <td>...</td>\n",
       "      <td>0</td>\n",
       "      <td>0</td>\n",
       "      <td>0</td>\n",
       "      <td>0</td>\n",
       "      <td>1</td>\n",
       "      <td>0</td>\n",
       "      <td>0</td>\n",
       "      <td>1</td>\n",
       "      <td>0</td>\n",
       "      <td>0</td>\n",
       "    </tr>\n",
       "  </tbody>\n",
       "</table>\n",
       "<p>5 rows × 23 columns</p>\n",
       "</div>"
      ],
      "text/plain": [
       "   index    price  year  maker  condition  cylinders  odometer  size  type  \\\n",
       "0      0  19800.0  2000  293.0        5.0        8.0   75000.0   4.0    91   \n",
       "1      1   3990.0  2008  293.0        NaN        NaN       NaN   NaN   518   \n",
       "2      2   5400.0  2006   99.0        5.0        NaN  190000.0   NaN   518   \n",
       "3      3   4995.0  2011  293.0        2.0        6.0  127767.0   3.0   644   \n",
       "4      4   5000.0  2003  113.0        5.0        8.0  114734.0   4.0   361   \n",
       "\n",
       "   color_r  ...  drive_fwd  drive_rwd  fuel_diesel  fuel_electric  fuel_gas  \\\n",
       "0    192.0  ...          0          1            0              0         1   \n",
       "1      NaN  ...          0          0            0              0         1   \n",
       "2      NaN  ...          0          0            0              0         1   \n",
       "3      NaN  ...          1          0            0              0         1   \n",
       "4    192.0  ...          0          0            0              0         1   \n",
       "\n",
       "   fuel_hybrid  fuel_other  transmission_automatic  transmission_manual  \\\n",
       "0            0           0                       1                    0   \n",
       "1            0           0                       1                    0   \n",
       "2            0           0                       1                    0   \n",
       "3            0           0                       1                    0   \n",
       "4            0           0                       1                    0   \n",
       "\n",
       "   transmission_other  \n",
       "0                   0  \n",
       "1                   0  \n",
       "2                   0  \n",
       "3                   0  \n",
       "4                   0  \n",
       "\n",
       "[5 rows x 23 columns]"
      ]
     },
     "execution_count": 21,
     "metadata": {},
     "output_type": "execute_result"
    }
   ],
   "source": [
    "p = Encoder()\n",
    "train = p.fit_transform(train_new)\n",
    "\n",
    "train.head(5)"
   ]
  },
  {
   "cell_type": "code",
   "execution_count": 22,
   "metadata": {},
   "outputs": [
    {
     "data": {
      "text/plain": [
       "Index(['index', 'price', 'year', 'maker', 'condition', 'cylinders', 'odometer',\n",
       "       'size', 'type', 'color_r', 'color_g', 'color_b', 'drive_4wd',\n",
       "       'drive_fwd', 'drive_rwd', 'fuel_diesel', 'fuel_electric', 'fuel_gas',\n",
       "       'fuel_hybrid', 'fuel_other', 'transmission_automatic',\n",
       "       'transmission_manual', 'transmission_other'],\n",
       "      dtype='object')"
      ]
     },
     "execution_count": 22,
     "metadata": {},
     "output_type": "execute_result"
    }
   ],
   "source": [
    "train.columns"
   ]
  },
  {
   "cell_type": "code",
   "execution_count": 23,
   "metadata": {},
   "outputs": [],
   "source": [
    "train.drop(['index'], axis = 1, inplace = True)"
   ]
  },
  {
   "cell_type": "code",
   "execution_count": 24,
   "metadata": {},
   "outputs": [],
   "source": [
    "with open('encoder.pkl', 'wb') as e:\n",
    "    pickle.dump(p, e)"
   ]
  },
  {
   "cell_type": "code",
   "execution_count": 27,
   "metadata": {},
   "outputs": [
    {
     "data": {
      "text/plain": [
       "(598, 22)"
      ]
     },
     "execution_count": 27,
     "metadata": {},
     "output_type": "execute_result"
    }
   ],
   "source": [
    "test_new = Transformer().fit_transform(test_raw)\n",
    "test_new = test_new[test_new.price > 1].reset_index()\n",
    "test = p.transform(test_new)\n",
    "test.drop(['index'], axis = 1, inplace = True)\n",
    "test.shape"
   ]
  },
  {
   "cell_type": "code",
   "execution_count": 28,
   "metadata": {},
   "outputs": [
    {
     "data": {
      "text/html": [
       "<div>\n",
       "<style scoped>\n",
       "    .dataframe tbody tr th:only-of-type {\n",
       "        vertical-align: middle;\n",
       "    }\n",
       "\n",
       "    .dataframe tbody tr th {\n",
       "        vertical-align: top;\n",
       "    }\n",
       "\n",
       "    .dataframe thead th {\n",
       "        text-align: right;\n",
       "    }\n",
       "</style>\n",
       "<table border=\"1\" class=\"dataframe\">\n",
       "  <thead>\n",
       "    <tr style=\"text-align: right;\">\n",
       "      <th></th>\n",
       "      <th>price</th>\n",
       "      <th>year</th>\n",
       "      <th>maker</th>\n",
       "      <th>condition</th>\n",
       "      <th>cylinders</th>\n",
       "      <th>odometer</th>\n",
       "      <th>size</th>\n",
       "      <th>type</th>\n",
       "      <th>color_r</th>\n",
       "      <th>color_g</th>\n",
       "      <th>...</th>\n",
       "      <th>drive_fwd</th>\n",
       "      <th>drive_rwd</th>\n",
       "      <th>fuel_diesel</th>\n",
       "      <th>fuel_electric</th>\n",
       "      <th>fuel_gas</th>\n",
       "      <th>fuel_hybrid</th>\n",
       "      <th>fuel_other</th>\n",
       "      <th>transmission_automatic</th>\n",
       "      <th>transmission_manual</th>\n",
       "      <th>transmission_other</th>\n",
       "    </tr>\n",
       "  </thead>\n",
       "  <tbody>\n",
       "    <tr>\n",
       "      <th>0</th>\n",
       "      <td>3498.0</td>\n",
       "      <td>2004</td>\n",
       "      <td>312.0</td>\n",
       "      <td>2.0</td>\n",
       "      <td>6.0</td>\n",
       "      <td>238939.0</td>\n",
       "      <td>3.0</td>\n",
       "      <td>644</td>\n",
       "      <td>192.0</td>\n",
       "      <td>192.0</td>\n",
       "      <td>...</td>\n",
       "      <td>1</td>\n",
       "      <td>0</td>\n",
       "      <td>0</td>\n",
       "      <td>0</td>\n",
       "      <td>1</td>\n",
       "      <td>0</td>\n",
       "      <td>0</td>\n",
       "      <td>1</td>\n",
       "      <td>0</td>\n",
       "      <td>0</td>\n",
       "    </tr>\n",
       "    <tr>\n",
       "      <th>1</th>\n",
       "      <td>34800.0</td>\n",
       "      <td>2014</td>\n",
       "      <td>81.0</td>\n",
       "      <td>2.0</td>\n",
       "      <td>8.0</td>\n",
       "      <td>7892.0</td>\n",
       "      <td>NaN</td>\n",
       "      <td>185</td>\n",
       "      <td>NaN</td>\n",
       "      <td>NaN</td>\n",
       "      <td>...</td>\n",
       "      <td>0</td>\n",
       "      <td>0</td>\n",
       "      <td>0</td>\n",
       "      <td>0</td>\n",
       "      <td>1</td>\n",
       "      <td>0</td>\n",
       "      <td>0</td>\n",
       "      <td>1</td>\n",
       "      <td>0</td>\n",
       "      <td>0</td>\n",
       "    </tr>\n",
       "    <tr>\n",
       "      <th>2</th>\n",
       "      <td>11995.0</td>\n",
       "      <td>2013</td>\n",
       "      <td>179.0</td>\n",
       "      <td>5.0</td>\n",
       "      <td>6.0</td>\n",
       "      <td>82785.0</td>\n",
       "      <td>2.0</td>\n",
       "      <td>127</td>\n",
       "      <td>0.0</td>\n",
       "      <td>0.0</td>\n",
       "      <td>...</td>\n",
       "      <td>0</td>\n",
       "      <td>1</td>\n",
       "      <td>0</td>\n",
       "      <td>0</td>\n",
       "      <td>1</td>\n",
       "      <td>0</td>\n",
       "      <td>0</td>\n",
       "      <td>1</td>\n",
       "      <td>0</td>\n",
       "      <td>0</td>\n",
       "    </tr>\n",
       "    <tr>\n",
       "      <th>3</th>\n",
       "      <td>21700.0</td>\n",
       "      <td>2016</td>\n",
       "      <td>46.0</td>\n",
       "      <td>NaN</td>\n",
       "      <td>NaN</td>\n",
       "      <td>50824.0</td>\n",
       "      <td>NaN</td>\n",
       "      <td>361</td>\n",
       "      <td>255.0</td>\n",
       "      <td>255.0</td>\n",
       "      <td>...</td>\n",
       "      <td>0</td>\n",
       "      <td>0</td>\n",
       "      <td>0</td>\n",
       "      <td>0</td>\n",
       "      <td>1</td>\n",
       "      <td>0</td>\n",
       "      <td>0</td>\n",
       "      <td>1</td>\n",
       "      <td>0</td>\n",
       "      <td>0</td>\n",
       "    </tr>\n",
       "    <tr>\n",
       "      <th>4</th>\n",
       "      <td>7500.0</td>\n",
       "      <td>2007</td>\n",
       "      <td>312.0</td>\n",
       "      <td>NaN</td>\n",
       "      <td>NaN</td>\n",
       "      <td>103095.0</td>\n",
       "      <td>NaN</td>\n",
       "      <td>518</td>\n",
       "      <td>NaN</td>\n",
       "      <td>NaN</td>\n",
       "      <td>...</td>\n",
       "      <td>0</td>\n",
       "      <td>0</td>\n",
       "      <td>0</td>\n",
       "      <td>0</td>\n",
       "      <td>1</td>\n",
       "      <td>0</td>\n",
       "      <td>0</td>\n",
       "      <td>1</td>\n",
       "      <td>0</td>\n",
       "      <td>0</td>\n",
       "    </tr>\n",
       "  </tbody>\n",
       "</table>\n",
       "<p>5 rows × 22 columns</p>\n",
       "</div>"
      ],
      "text/plain": [
       "     price  year  maker  condition  cylinders  odometer  size  type  color_r  \\\n",
       "0   3498.0  2004  312.0        2.0        6.0  238939.0   3.0   644    192.0   \n",
       "1  34800.0  2014   81.0        2.0        8.0    7892.0   NaN   185      NaN   \n",
       "2  11995.0  2013  179.0        5.0        6.0   82785.0   2.0   127      0.0   \n",
       "3  21700.0  2016   46.0        NaN        NaN   50824.0   NaN   361    255.0   \n",
       "4   7500.0  2007  312.0        NaN        NaN  103095.0   NaN   518      NaN   \n",
       "\n",
       "   color_g  ...  drive_fwd  drive_rwd  fuel_diesel  fuel_electric  fuel_gas  \\\n",
       "0    192.0  ...          1          0            0              0         1   \n",
       "1      NaN  ...          0          0            0              0         1   \n",
       "2      0.0  ...          0          1            0              0         1   \n",
       "3    255.0  ...          0          0            0              0         1   \n",
       "4      NaN  ...          0          0            0              0         1   \n",
       "\n",
       "   fuel_hybrid  fuel_other  transmission_automatic  transmission_manual  \\\n",
       "0            0           0                       1                    0   \n",
       "1            0           0                       1                    0   \n",
       "2            0           0                       1                    0   \n",
       "3            0           0                       1                    0   \n",
       "4            0           0                       1                    0   \n",
       "\n",
       "   transmission_other  \n",
       "0                   0  \n",
       "1                   0  \n",
       "2                   0  \n",
       "3                   0  \n",
       "4                   0  \n",
       "\n",
       "[5 rows x 22 columns]"
      ]
     },
     "execution_count": 28,
     "metadata": {},
     "output_type": "execute_result"
    }
   ],
   "source": [
    "test.head()"
   ]
  },
  {
   "cell_type": "code",
   "execution_count": 29,
   "metadata": {},
   "outputs": [
    {
     "data": {
      "text/plain": [
       "Index(['price', 'year', 'maker', 'condition', 'cylinders', 'odometer', 'size',\n",
       "       'type', 'color_r', 'color_g', 'color_b', 'drive_4wd', 'drive_fwd',\n",
       "       'drive_rwd', 'fuel_diesel', 'fuel_electric', 'fuel_gas', 'fuel_hybrid',\n",
       "       'fuel_other', 'transmission_automatic', 'transmission_manual',\n",
       "       'transmission_other'],\n",
       "      dtype='object')"
      ]
     },
     "execution_count": 29,
     "metadata": {},
     "output_type": "execute_result"
    }
   ],
   "source": [
    "test.columns"
   ]
  },
  {
   "cell_type": "code",
   "execution_count": 92,
   "metadata": {},
   "outputs": [],
   "source": [
    "# Get the target variable and predictor variables from training set and test set respectively.\n",
    "X_train_miss = train.drop('price', axis=1)\n",
    "y_train = train.price.values\n",
    "\n",
    "X_test_miss = test.drop('price', axis=1)\n",
    "y_test = test.price.values"
   ]
  },
  {
   "cell_type": "code",
   "execution_count": 31,
   "metadata": {},
   "outputs": [
    {
     "data": {
      "text/plain": [
       "((2392, 21), (2392,), (598, 21), (598,))"
      ]
     },
     "execution_count": 31,
     "metadata": {},
     "output_type": "execute_result"
    }
   ],
   "source": [
    "X_train_miss.shape, y_train.shape, X_test_miss.shape, y_test.shape"
   ]
  },
  {
   "cell_type": "markdown",
   "metadata": {},
   "source": [
    "### Missing data imputation"
   ]
  },
  {
   "cell_type": "code",
   "execution_count": 32,
   "metadata": {},
   "outputs": [
    {
     "name": "stderr",
     "output_type": "stream",
     "text": [
      "/Users/hercule/anaconda3/lib/python3.6/site-packages/sklearn/impute/_iterative.py:638: ConvergenceWarning: [IterativeImputer] Early stopping criterion not reached.\n",
      "  \" reached.\", ConvergenceWarning)\n"
     ]
    },
    {
     "data": {
      "text/plain": [
       "IterativeImputer(add_indicator=False, estimator=None,\n",
       "                 imputation_order='ascending', initial_strategy='mean',\n",
       "                 max_iter=10, max_value=None, min_value=None,\n",
       "                 missing_values=nan, n_nearest_features=3, random_state=2020,\n",
       "                 sample_posterior=False, skip_complete=False, tol=0.001,\n",
       "                 verbose=0)"
      ]
     },
     "execution_count": 32,
     "metadata": {},
     "output_type": "execute_result"
    }
   ],
   "source": [
    "# Use IterativeImputer to impute the rest of missing values in the data.\n",
    "imputer = IterativeImputer(n_nearest_features = 3, random_state = 2020)\n",
    "imputer.fit(X_train_miss)"
   ]
  },
  {
   "cell_type": "code",
   "execution_count": 33,
   "metadata": {},
   "outputs": [],
   "source": [
    "X_train = imputer.transform(X_train_miss)\n",
    "X_test = imputer.transform(X_test_miss)"
   ]
  },
  {
   "cell_type": "code",
   "execution_count": 34,
   "metadata": {},
   "outputs": [
    {
     "data": {
      "text/plain": [
       "((2392, 21), (598, 21))"
      ]
     },
     "execution_count": 34,
     "metadata": {},
     "output_type": "execute_result"
    }
   ],
   "source": [
    "X_train.shape, X_test.shape"
   ]
  },
  {
   "cell_type": "markdown",
   "metadata": {},
   "source": [
    "### Build Random Forest Model"
   ]
  },
  {
   "cell_type": "code",
   "execution_count": 93,
   "metadata": {},
   "outputs": [
    {
     "data": {
      "text/plain": [
       "RandomForestRegressor(bootstrap=True, ccp_alpha=0.0, criterion='mse',\n",
       "                      max_depth=None, max_features='auto', max_leaf_nodes=None,\n",
       "                      max_samples=None, min_impurity_decrease=0.0,\n",
       "                      min_impurity_split=None, min_samples_leaf=1,\n",
       "                      min_samples_split=2, min_weight_fraction_leaf=0.0,\n",
       "                      n_estimators=100, n_jobs=None, oob_score=False,\n",
       "                      random_state=2020, verbose=0, warm_start=False)"
      ]
     },
     "execution_count": 93,
     "metadata": {},
     "output_type": "execute_result"
    }
   ],
   "source": [
    "rf = RandomForestRegressor(random_state=2020)\n",
    "rf.fit(X_train, y_train)"
   ]
  },
  {
   "cell_type": "code",
   "execution_count": 94,
   "metadata": {},
   "outputs": [],
   "source": [
    "y_train_pred = rf.predict(X_train)\n",
    "y_test_pred = rf.predict(X_test)"
   ]
  },
  {
   "cell_type": "code",
   "execution_count": 95,
   "metadata": {},
   "outputs": [
    {
     "name": "stdout",
     "output_type": "stream",
     "text": [
      "train MSE: 1.04e+07\n",
      "train R2: 0.949 \n",
      "\n",
      "test MSE: 4.65e+07\n",
      "test R2: 0.707\n"
     ]
    }
   ],
   "source": [
    "print('train MSE: {0:.2e}'.format(mean_squared_error(y_train, y_train_pred)))\n",
    "print('train R2: {0:.3f}'.format(r2_score(y_train, y_train_pred)), '\\n')\n",
    "\n",
    "print('test MSE: {0:.2e}'.format(mean_squared_error(y_test, y_test_pred)))\n",
    "print('test R2: {0:.3f}'.format(r2_score(y_test, y_test_pred)))"
   ]
  },
  {
   "cell_type": "markdown",
   "metadata": {},
   "source": [
    "### Optimization"
   ]
  },
  {
   "cell_type": "code",
   "execution_count": 96,
   "metadata": {},
   "outputs": [
    {
     "data": {
      "text/plain": [
       "GridSearchCV(cv=None, error_score=nan,\n",
       "             estimator=RandomForestRegressor(bootstrap=True, ccp_alpha=0.0,\n",
       "                                             criterion='mse', max_depth=None,\n",
       "                                             max_features='auto',\n",
       "                                             max_leaf_nodes=None,\n",
       "                                             max_samples=None,\n",
       "                                             min_impurity_decrease=0.0,\n",
       "                                             min_impurity_split=None,\n",
       "                                             min_samples_leaf=1,\n",
       "                                             min_samples_split=2,\n",
       "                                             min_weight_fraction_leaf=0.0,\n",
       "                                             n_estimators=100, n_jobs=None,\n",
       "                                             oob_score=False, random_state=2020,\n",
       "                                             verbose=0, warm_start=False),\n",
       "             iid='deprecated', n_jobs=None,\n",
       "             param_grid={'max_depth': [1, 2, 3, 4, 5],\n",
       "                         'n_estimators': [50, 100, 300, 500, 1000]},\n",
       "             pre_dispatch='2*n_jobs', refit=True, return_train_score=False,\n",
       "             scoring='neg_mean_squared_error', verbose=0)"
      ]
     },
     "execution_count": 96,
     "metadata": {},
     "output_type": "execute_result"
    }
   ],
   "source": [
    "trees = [50, 100, 300, 500, 1000,]\n",
    "depths = [1, 2, 3, 4, 5]\n",
    "\n",
    "rf_cv = GridSearchCV(rf, param_grid = {'max_depth': depths, 'n_estimators': trees}, \n",
    "                     scoring='neg_mean_squared_error')\n",
    "rf_cv.fit(X_train, y_train)"
   ]
  },
  {
   "cell_type": "code",
   "execution_count": 97,
   "metadata": {},
   "outputs": [
    {
     "data": {
      "text/plain": [
       "{'max_depth': 5, 'n_estimators': 100}"
      ]
     },
     "execution_count": 97,
     "metadata": {},
     "output_type": "execute_result"
    }
   ],
   "source": [
    "rf_cv.best_params_"
   ]
  },
  {
   "cell_type": "code",
   "execution_count": 98,
   "metadata": {},
   "outputs": [
    {
     "data": {
      "text/plain": [
       "RandomForestRegressor(bootstrap=True, ccp_alpha=0.0, criterion='mse',\n",
       "                      max_depth=5, max_features='auto', max_leaf_nodes=None,\n",
       "                      max_samples=None, min_impurity_decrease=0.0,\n",
       "                      min_impurity_split=None, min_samples_leaf=1,\n",
       "                      min_samples_split=2, min_weight_fraction_leaf=0.0,\n",
       "                      n_estimators=100, n_jobs=None, oob_score=False,\n",
       "                      random_state=2020, verbose=0, warm_start=False)"
      ]
     },
     "execution_count": 98,
     "metadata": {},
     "output_type": "execute_result"
    }
   ],
   "source": [
    "rf_opt = RandomForestRegressor(n_estimators=rf_cv.best_params_['n_estimators'], \n",
    "                               max_depth=rf_cv.best_params_['max_depth'], \n",
    "                              random_state=2020)\n",
    "rf_opt.fit(X_train, y_train)"
   ]
  },
  {
   "cell_type": "code",
   "execution_count": 127,
   "metadata": {},
   "outputs": [
    {
     "name": "stdout",
     "output_type": "stream",
     "text": [
      "train MAE: 5.10e+03\n",
      "train R2: 0.671 \n",
      "\n",
      "test MAE: 5.26e+03\n",
      "test R2: 0.610\n"
     ]
    }
   ],
   "source": [
    "y_train_pred = rf_opt.predict(X_train)\n",
    "y_test_pred = rf_opt.predict(X_test)\n",
    "\n",
    "print('train MAE: {0:.2e}'.format(mean_absolute_error(y_train, y_train_pred)))\n",
    "print('train R2: {0:.3f}'.format(r2_score(y_train, y_train_pred)), '\\n')\n",
    "\n",
    "print('test MAE: {0:.2e}'.format(mean_absolute_error(y_test, y_test_pred)))\n",
    "print('test R2: {0:.3f}'.format(r2_score(y_test, y_test_pred)))"
   ]
  },
  {
   "cell_type": "markdown",
   "metadata": {},
   "source": [
    "### Build GBDT"
   ]
  },
  {
   "cell_type": "code",
   "execution_count": 101,
   "metadata": {},
   "outputs": [
    {
     "data": {
      "text/plain": [
       "GradientBoostingRegressor(alpha=0.9, ccp_alpha=0.0, criterion='friedman_mse',\n",
       "                          init=None, learning_rate=0.1, loss='ls', max_depth=3,\n",
       "                          max_features=None, max_leaf_nodes=None,\n",
       "                          min_impurity_decrease=0.0, min_impurity_split=None,\n",
       "                          min_samples_leaf=1, min_samples_split=2,\n",
       "                          min_weight_fraction_leaf=0.0, n_estimators=100,\n",
       "                          n_iter_no_change=None, presort='deprecated',\n",
       "                          random_state=2020, subsample=1.0, tol=0.0001,\n",
       "                          validation_fraction=0.1, verbose=0, warm_start=False)"
      ]
     },
     "execution_count": 101,
     "metadata": {},
     "output_type": "execute_result"
    }
   ],
   "source": [
    "gbdt = GradientBoostingRegressor(random_state=2020)\n",
    "gbdt.fit(X_train, y_train)"
   ]
  },
  {
   "cell_type": "code",
   "execution_count": 128,
   "metadata": {},
   "outputs": [
    {
     "name": "stdout",
     "output_type": "stream",
     "text": [
      "train MAE: 4.06e+03\n",
      "train R2: 0.808 \n",
      "\n",
      "test MAE: 4.55e+03\n",
      "test R2: 0.671\n"
     ]
    }
   ],
   "source": [
    "y_train_pred = gbdt.predict(X_train)\n",
    "y_test_pred = gbdt.predict(X_test)\n",
    "\n",
    "print('train MAE: {0:.2e}'.format(mean_absolute_error(y_train, y_train_pred)))\n",
    "print('train R2: {0:.3f}'.format(r2_score(y_train, y_train_pred)), '\\n')\n",
    "\n",
    "print('test MAE: {0:.2e}'.format(mean_absolute_error(y_test, y_test_pred)))\n",
    "print('test R2: {0:.3f}'.format(r2_score(y_test, y_test_pred)))"
   ]
  },
  {
   "cell_type": "markdown",
   "metadata": {},
   "source": [
    "### Optimization"
   ]
  },
  {
   "cell_type": "code",
   "execution_count": 103,
   "metadata": {},
   "outputs": [
    {
     "data": {
      "text/plain": [
       "GridSearchCV(cv=None, error_score=nan,\n",
       "             estimator=GradientBoostingRegressor(alpha=0.9, ccp_alpha=0.0,\n",
       "                                                 criterion='friedman_mse',\n",
       "                                                 init=None, learning_rate=0.1,\n",
       "                                                 loss='ls', max_depth=3,\n",
       "                                                 max_features=None,\n",
       "                                                 max_leaf_nodes=None,\n",
       "                                                 min_impurity_decrease=0.0,\n",
       "                                                 min_impurity_split=None,\n",
       "                                                 min_samples_leaf=1,\n",
       "                                                 min_samples_split=2,\n",
       "                                                 min_weight_fraction_leaf=0.0,\n",
       "                                                 n_estimators=100,\n",
       "                                                 n_ite...\n",
       "                                                 presort='deprecated',\n",
       "                                                 random_state=2020,\n",
       "                                                 subsample=1.0, tol=0.0001,\n",
       "                                                 validation_fraction=0.1,\n",
       "                                                 verbose=0, warm_start=False),\n",
       "             iid='deprecated', n_jobs=None,\n",
       "             param_grid={'learning_rate': [0.01, 0.05, 0.1, 0.5, 1, 2],\n",
       "                         'max_depth': [1, 2, 3],\n",
       "                         'n_estimators': [50, 100, 300, 500, 1000]},\n",
       "             pre_dispatch='2*n_jobs', refit=True, return_train_score=False,\n",
       "             scoring='neg_mean_squared_error', verbose=0)"
      ]
     },
     "execution_count": 103,
     "metadata": {},
     "output_type": "execute_result"
    }
   ],
   "source": [
    "trees = [50, 100, 300, 500, 1000,]\n",
    "rates = [.01, .05, .1, .5, 1, 2]\n",
    "\n",
    "gbdt_cv = GridSearchCV(gbdt, param_grid = {'learning_rate': rates, 'n_estimators': trees, 'max_depth': [1, 2, 3]}, \n",
    "                       scoring='neg_mean_squared_error')\n",
    "gbdt_cv.fit(X_train, y_train)"
   ]
  },
  {
   "cell_type": "code",
   "execution_count": 104,
   "metadata": {},
   "outputs": [
    {
     "data": {
      "text/plain": [
       "{'learning_rate': 0.1, 'max_depth': 3, 'n_estimators': 500}"
      ]
     },
     "execution_count": 104,
     "metadata": {},
     "output_type": "execute_result"
    }
   ],
   "source": [
    "gbdt_cv.best_params_"
   ]
  },
  {
   "cell_type": "code",
   "execution_count": 105,
   "metadata": {},
   "outputs": [
    {
     "data": {
      "text/plain": [
       "GradientBoostingRegressor(alpha=0.9, ccp_alpha=0.0, criterion='friedman_mse',\n",
       "                          init=None, learning_rate=0.1, loss='ls', max_depth=3,\n",
       "                          max_features=None, max_leaf_nodes=None,\n",
       "                          min_impurity_decrease=0.0, min_impurity_split=None,\n",
       "                          min_samples_leaf=1, min_samples_split=2,\n",
       "                          min_weight_fraction_leaf=0.0, n_estimators=500,\n",
       "                          n_iter_no_change=None, presort='deprecated',\n",
       "                          random_state=None, subsample=1.0, tol=0.0001,\n",
       "                          validation_fraction=0.1, verbose=0, warm_start=False)"
      ]
     },
     "execution_count": 105,
     "metadata": {},
     "output_type": "execute_result"
    }
   ],
   "source": [
    "gbdt_opt = GradientBoostingRegressor(learning_rate=gbdt_cv.best_params_['learning_rate'], \n",
    "                                    max_depth=gbdt_cv.best_params_['max_depth'], \n",
    "                                    n_estimators=gbdt_cv.best_params_['n_estimators'])\n",
    "gbdt_opt.fit(X_train, y_train)"
   ]
  },
  {
   "cell_type": "code",
   "execution_count": 129,
   "metadata": {},
   "outputs": [
    {
     "name": "stdout",
     "output_type": "stream",
     "text": [
      "train MAE: 2.77e+03\n",
      "train R2: 0.918 \n",
      "\n",
      "test MAE: 4.32e+03\n",
      "test R2: 0.675\n"
     ]
    }
   ],
   "source": [
    "y_train_pred = gbdt_opt.predict(X_train)\n",
    "y_test_pred = gbdt_opt.predict(X_test)\n",
    "\n",
    "print('train MAE: {0:.2e}'.format(mean_absolute_error(y_train, y_train_pred)))\n",
    "print('train R2: {0:.3f}'.format(r2_score(y_train, y_train_pred)), '\\n')\n",
    "\n",
    "print('test MAE: {0:.2e}'.format(mean_absolute_error(y_test, y_test_pred)))\n",
    "print('test R2: {0:.3f}'.format(r2_score(y_test, y_test_pred)))"
   ]
  },
  {
   "cell_type": "code",
   "execution_count": 130,
   "metadata": {},
   "outputs": [
    {
     "data": {
      "text/html": [
       "<div>\n",
       "<style scoped>\n",
       "    .dataframe tbody tr th:only-of-type {\n",
       "        vertical-align: middle;\n",
       "    }\n",
       "\n",
       "    .dataframe tbody tr th {\n",
       "        vertical-align: top;\n",
       "    }\n",
       "\n",
       "    .dataframe thead th {\n",
       "        text-align: right;\n",
       "    }\n",
       "</style>\n",
       "<table border=\"1\" class=\"dataframe\">\n",
       "  <thead>\n",
       "    <tr style=\"text-align: right;\">\n",
       "      <th></th>\n",
       "      <th>importance</th>\n",
       "    </tr>\n",
       "  </thead>\n",
       "  <tbody>\n",
       "    <tr>\n",
       "      <th>fuel_hybrid</th>\n",
       "      <td>0.000343</td>\n",
       "    </tr>\n",
       "    <tr>\n",
       "      <th>transmission_automatic</th>\n",
       "      <td>0.001187</td>\n",
       "    </tr>\n",
       "    <tr>\n",
       "      <th>drive_rwd</th>\n",
       "      <td>0.001537</td>\n",
       "    </tr>\n",
       "    <tr>\n",
       "      <th>fuel_gas</th>\n",
       "      <td>0.001853</td>\n",
       "    </tr>\n",
       "    <tr>\n",
       "      <th>fuel_electric</th>\n",
       "      <td>0.002397</td>\n",
       "    </tr>\n",
       "    <tr>\n",
       "      <th>transmission_manual</th>\n",
       "      <td>0.003657</td>\n",
       "    </tr>\n",
       "    <tr>\n",
       "      <th>fuel_other</th>\n",
       "      <td>0.003706</td>\n",
       "    </tr>\n",
       "    <tr>\n",
       "      <th>transmission_other</th>\n",
       "      <td>0.004639</td>\n",
       "    </tr>\n",
       "    <tr>\n",
       "      <th>drive_4wd</th>\n",
       "      <td>0.007253</td>\n",
       "    </tr>\n",
       "    <tr>\n",
       "      <th>color_r</th>\n",
       "      <td>0.009322</td>\n",
       "    </tr>\n",
       "    <tr>\n",
       "      <th>color_b</th>\n",
       "      <td>0.010540</td>\n",
       "    </tr>\n",
       "    <tr>\n",
       "      <th>color_g</th>\n",
       "      <td>0.012544</td>\n",
       "    </tr>\n",
       "    <tr>\n",
       "      <th>size</th>\n",
       "      <td>0.020284</td>\n",
       "    </tr>\n",
       "    <tr>\n",
       "      <th>type</th>\n",
       "      <td>0.021329</td>\n",
       "    </tr>\n",
       "    <tr>\n",
       "      <th>fuel_diesel</th>\n",
       "      <td>0.026020</td>\n",
       "    </tr>\n",
       "    <tr>\n",
       "      <th>condition</th>\n",
       "      <td>0.041916</td>\n",
       "    </tr>\n",
       "    <tr>\n",
       "      <th>drive_fwd</th>\n",
       "      <td>0.042638</td>\n",
       "    </tr>\n",
       "    <tr>\n",
       "      <th>cylinders</th>\n",
       "      <td>0.086885</td>\n",
       "    </tr>\n",
       "    <tr>\n",
       "      <th>maker</th>\n",
       "      <td>0.160953</td>\n",
       "    </tr>\n",
       "    <tr>\n",
       "      <th>year</th>\n",
       "      <td>0.212513</td>\n",
       "    </tr>\n",
       "    <tr>\n",
       "      <th>odometer</th>\n",
       "      <td>0.328486</td>\n",
       "    </tr>\n",
       "  </tbody>\n",
       "</table>\n",
       "</div>"
      ],
      "text/plain": [
       "                        importance\n",
       "fuel_hybrid               0.000343\n",
       "transmission_automatic    0.001187\n",
       "drive_rwd                 0.001537\n",
       "fuel_gas                  0.001853\n",
       "fuel_electric             0.002397\n",
       "transmission_manual       0.003657\n",
       "fuel_other                0.003706\n",
       "transmission_other        0.004639\n",
       "drive_4wd                 0.007253\n",
       "color_r                   0.009322\n",
       "color_b                   0.010540\n",
       "color_g                   0.012544\n",
       "size                      0.020284\n",
       "type                      0.021329\n",
       "fuel_diesel               0.026020\n",
       "condition                 0.041916\n",
       "drive_fwd                 0.042638\n",
       "cylinders                 0.086885\n",
       "maker                     0.160953\n",
       "year                      0.212513\n",
       "odometer                  0.328486"
      ]
     },
     "execution_count": 130,
     "metadata": {},
     "output_type": "execute_result"
    }
   ],
   "source": [
    "feature_importance = gbdt_opt.feature_importances_\n",
    "features = train.drop('price', axis = 1).columns\n",
    "\n",
    "feature_importance_table = pd.DataFrame(feature_importance.reshape(21,1), index=features, columns=['importance']).\\\n",
    "sort_values(by = 'importance', ascending=True)\n",
    "feature_importance_table"
   ]
  },
  {
   "cell_type": "code",
   "execution_count": 131,
   "metadata": {},
   "outputs": [
    {
     "data": {
      "image/png": "[encoded data removed]",
      "text/plain": [
       "<Figure size 432x288 with 1 Axes>"
      ]
     },
     "metadata": {
      "needs_background": "light"
     },
     "output_type": "display_data"
    }
   ],
   "source": [
    "plt.barh(feature_importance_table.index, feature_importance_table.importance)\n",
    "plt.title('Feature Importance')\n",
    "plt.show()"
   ]
  },
  {
   "cell_type": "code",
   "execution_count": null,
   "metadata": {},
   "outputs": [],
   "source": []
  },
  {
   "cell_type": "markdown",
   "metadata": {},
   "source": [
    "### Build Xgboots model"
   ]
  },
  {
   "cell_type": "code",
   "execution_count": 111,
   "metadata": {},
   "outputs": [],
   "source": [
    "from xgboost import XGBRegressor"
   ]
  },
  {
   "cell_type": "code",
   "execution_count": 112,
   "metadata": {},
   "outputs": [
    {
     "name": "stdout",
     "output_type": "stream",
     "text": [
      "[16:53:10] WARNING: src/objective/regression_obj.cu:152: reg:linear is now deprecated in favor of reg:squarederror.\n"
     ]
    },
    {
     "data": {
      "text/plain": [
       "XGBRegressor(base_score=0.5, booster='gbtree', colsample_bylevel=1,\n",
       "             colsample_bynode=1, colsample_bytree=1, gamma=0,\n",
       "             importance_type='gain', learning_rate=0.1, max_delta_step=0,\n",
       "             max_depth=3, min_child_weight=1, missing=None, n_estimators=100,\n",
       "             n_jobs=1, nthread=None, objective='reg:linear', random_state=0,\n",
       "             reg_alpha=0, reg_lambda=1, scale_pos_weight=1, seed=None,\n",
       "             silent=None, subsample=1, verbosity=1)"
      ]
     },
     "execution_count": 112,
     "metadata": {},
     "output_type": "execute_result"
    }
   ],
   "source": [
    "# The performance of optimal hyperparameters picked by tuning is even worse than default ones,\n",
    "# so I use the default values for all these hyperparameters.\n",
    "xgb = XGBRegressor()\n",
    "\n",
    "xgb.fit(X_train, y_train)"
   ]
  },
  {
   "cell_type": "code",
   "execution_count": 133,
   "metadata": {},
   "outputs": [],
   "source": [
    "y_train_pred = xgb.predict(X_train)\n",
    "y_test_pred = xgb.predict(X_test)"
   ]
  },
  {
   "cell_type": "code",
   "execution_count": 134,
   "metadata": {
    "scrolled": true
   },
   "outputs": [
    {
     "name": "stdout",
     "output_type": "stream",
     "text": [
      "train MAE: 4.16e+03\n",
      "train R2: 0.793 \n",
      "\n",
      "test MAE: 4.65e+03\n",
      "test R2: 0.664\n"
     ]
    }
   ],
   "source": [
    "print('train MAE: {0:.2e}'.format(mean_absolute_error(y_train, y_train_pred)))\n",
    "print('train R2: {0:.3f}'.format(r2_score(y_train, y_train_pred)), '\\n')\n",
    "\n",
    "print('test MAE: {0:.2e}'.format(mean_absolute_error(y_test, y_test_pred)))\n",
    "print('test R2: {0:.3f}'.format(r2_score(y_test, y_test_pred)))"
   ]
  },
  {
   "cell_type": "code",
   "execution_count": 115,
   "metadata": {},
   "outputs": [],
   "source": [
    "feature_importance = xgb.feature_importances_\n",
    "features = train.drop('price', axis = 1).columns"
   ]
  },
  {
   "cell_type": "code",
   "execution_count": 116,
   "metadata": {
    "scrolled": true
   },
   "outputs": [
    {
     "data": {
      "text/plain": [
       "<BarContainer object of 21 artists>"
      ]
     },
     "execution_count": 116,
     "metadata": {},
     "output_type": "execute_result"
    },
    {
     "data": {
      "image/png": "[encoded data removed]",
      "text/plain": [
       "<Figure size 432x288 with 1 Axes>"
      ]
     },
     "metadata": {
      "needs_background": "light"
     },
     "output_type": "display_data"
    }
   ],
   "source": [
    "plt.barh(features, feature_importance)"
   ]
  },
  {
   "cell_type": "code",
   "execution_count": 117,
   "metadata": {},
   "outputs": [],
   "source": [
    "with open('car_model.pkl', 'wb') as f:\n",
    "    pickle.dump(rf, f)"
   ]
  },
  {
   "cell_type": "markdown",
   "metadata": {},
   "source": [
    "### Anomaly detection"
   ]
  },
  {
   "cell_type": "code",
   "execution_count": 118,
   "metadata": {},
   "outputs": [],
   "source": [
    "# Combine the features and target into a complete matrix.\n",
    "M_train = np.concatenate((y_train.reshape(-1, 1), X_train), axis = 1)\n",
    "M_test = np.concatenate((y_test.reshape(-1, 1), X_test), axis = 1)"
   ]
  },
  {
   "cell_type": "code",
   "execution_count": 119,
   "metadata": {},
   "outputs": [
    {
     "data": {
      "text/plain": [
       "IsolationForest(behaviour='deprecated', bootstrap=False, contamination='auto',\n",
       "                max_features=4, max_samples=100, n_estimators=100, n_jobs=None,\n",
       "                random_state=2020, verbose=0, warm_start=False)"
      ]
     },
     "execution_count": 119,
     "metadata": {},
     "output_type": "execute_result"
    }
   ],
   "source": [
    "# training the isolation forest model\n",
    "clf = IsolationForest(max_samples=100, max_features = 4, random_state=2020)\n",
    "clf.fit(M_train)"
   ]
  },
  {
   "cell_type": "code",
   "execution_count": 120,
   "metadata": {},
   "outputs": [],
   "source": [
    "# predictions\n",
    "y_pred_train = clf.predict(M_train)\n",
    "y_pred_test = clf.predict(M_test)"
   ]
  },
  {
   "cell_type": "code",
   "execution_count": 121,
   "metadata": {},
   "outputs": [
    {
     "data": {
      "text/plain": [
       "0.3432274247491639"
      ]
     },
     "execution_count": 121,
     "metadata": {},
     "output_type": "execute_result"
    }
   ],
   "source": [
    "np.mean(y_pred_train == -1)"
   ]
  },
  {
   "cell_type": "code",
   "execution_count": 122,
   "metadata": {},
   "outputs": [
    {
     "data": {
      "text/plain": [
       "0.3311036789297659"
      ]
     },
     "execution_count": 122,
     "metadata": {},
     "output_type": "execute_result"
    }
   ],
   "source": [
    "np.mean(y_pred_test == -1)"
   ]
  },
  {
   "cell_type": "code",
   "execution_count": 123,
   "metadata": {},
   "outputs": [],
   "source": [
    "M_train_df = pd.DataFrame(M_train, columns=train.columns)\n",
    "M_test_df = pd.DataFrame(M_test, columns=test.columns)"
   ]
  },
  {
   "cell_type": "code",
   "execution_count": 124,
   "metadata": {},
   "outputs": [
    {
     "data": {
      "text/html": [
       "<div>\n",
       "<style scoped>\n",
       "    .dataframe tbody tr th:only-of-type {\n",
       "        vertical-align: middle;\n",
       "    }\n",
       "\n",
       "    .dataframe tbody tr th {\n",
       "        vertical-align: top;\n",
       "    }\n",
       "\n",
       "    .dataframe thead th {\n",
       "        text-align: right;\n",
       "    }\n",
       "</style>\n",
       "<table border=\"1\" class=\"dataframe\">\n",
       "  <thead>\n",
       "    <tr style=\"text-align: right;\">\n",
       "      <th></th>\n",
       "      <th>price</th>\n",
       "      <th>year</th>\n",
       "      <th>maker</th>\n",
       "      <th>condition</th>\n",
       "      <th>cylinders</th>\n",
       "      <th>odometer</th>\n",
       "      <th>size</th>\n",
       "      <th>type</th>\n",
       "      <th>color_r</th>\n",
       "      <th>color_g</th>\n",
       "      <th>...</th>\n",
       "      <th>drive_fwd</th>\n",
       "      <th>drive_rwd</th>\n",
       "      <th>fuel_diesel</th>\n",
       "      <th>fuel_electric</th>\n",
       "      <th>fuel_gas</th>\n",
       "      <th>fuel_hybrid</th>\n",
       "      <th>fuel_other</th>\n",
       "      <th>transmission_automatic</th>\n",
       "      <th>transmission_manual</th>\n",
       "      <th>transmission_other</th>\n",
       "    </tr>\n",
       "  </thead>\n",
       "  <tbody>\n",
       "    <tr>\n",
       "      <th>0</th>\n",
       "      <td>19800.0</td>\n",
       "      <td>2000.0</td>\n",
       "      <td>293.0</td>\n",
       "      <td>5.0</td>\n",
       "      <td>8.000000</td>\n",
       "      <td>75000.0</td>\n",
       "      <td>4.000000</td>\n",
       "      <td>91.0</td>\n",
       "      <td>192.000000</td>\n",
       "      <td>192.000000</td>\n",
       "      <td>...</td>\n",
       "      <td>0.0</td>\n",
       "      <td>1.0</td>\n",
       "      <td>0.0</td>\n",
       "      <td>0.0</td>\n",
       "      <td>1.0</td>\n",
       "      <td>0.0</td>\n",
       "      <td>0.0</td>\n",
       "      <td>1.0</td>\n",
       "      <td>0.0</td>\n",
       "      <td>0.0</td>\n",
       "    </tr>\n",
       "    <tr>\n",
       "      <th>4</th>\n",
       "      <td>5000.0</td>\n",
       "      <td>2003.0</td>\n",
       "      <td>113.0</td>\n",
       "      <td>5.0</td>\n",
       "      <td>8.000000</td>\n",
       "      <td>114734.0</td>\n",
       "      <td>4.000000</td>\n",
       "      <td>361.0</td>\n",
       "      <td>192.000000</td>\n",
       "      <td>192.000000</td>\n",
       "      <td>...</td>\n",
       "      <td>0.0</td>\n",
       "      <td>0.0</td>\n",
       "      <td>0.0</td>\n",
       "      <td>0.0</td>\n",
       "      <td>1.0</td>\n",
       "      <td>0.0</td>\n",
       "      <td>0.0</td>\n",
       "      <td>1.0</td>\n",
       "      <td>0.0</td>\n",
       "      <td>0.0</td>\n",
       "    </tr>\n",
       "    <tr>\n",
       "      <th>5</th>\n",
       "      <td>30808.0</td>\n",
       "      <td>2018.0</td>\n",
       "      <td>78.0</td>\n",
       "      <td>5.0</td>\n",
       "      <td>4.000000</td>\n",
       "      <td>39960.0</td>\n",
       "      <td>2.000000</td>\n",
       "      <td>644.0</td>\n",
       "      <td>255.000000</td>\n",
       "      <td>0.000000</td>\n",
       "      <td>...</td>\n",
       "      <td>0.0</td>\n",
       "      <td>0.0</td>\n",
       "      <td>0.0</td>\n",
       "      <td>0.0</td>\n",
       "      <td>1.0</td>\n",
       "      <td>0.0</td>\n",
       "      <td>0.0</td>\n",
       "      <td>0.0</td>\n",
       "      <td>1.0</td>\n",
       "      <td>0.0</td>\n",
       "    </tr>\n",
       "    <tr>\n",
       "      <th>8</th>\n",
       "      <td>11300.0</td>\n",
       "      <td>2005.0</td>\n",
       "      <td>179.0</td>\n",
       "      <td>2.0</td>\n",
       "      <td>8.000000</td>\n",
       "      <td>162000.0</td>\n",
       "      <td>4.000000</td>\n",
       "      <td>91.0</td>\n",
       "      <td>128.000000</td>\n",
       "      <td>128.000000</td>\n",
       "      <td>...</td>\n",
       "      <td>0.0</td>\n",
       "      <td>0.0</td>\n",
       "      <td>0.0</td>\n",
       "      <td>0.0</td>\n",
       "      <td>1.0</td>\n",
       "      <td>0.0</td>\n",
       "      <td>0.0</td>\n",
       "      <td>1.0</td>\n",
       "      <td>0.0</td>\n",
       "      <td>0.0</td>\n",
       "    </tr>\n",
       "    <tr>\n",
       "      <th>20</th>\n",
       "      <td>1500.0</td>\n",
       "      <td>1997.0</td>\n",
       "      <td>179.0</td>\n",
       "      <td>2.0</td>\n",
       "      <td>8.000000</td>\n",
       "      <td>286000.0</td>\n",
       "      <td>4.000000</td>\n",
       "      <td>91.0</td>\n",
       "      <td>255.000000</td>\n",
       "      <td>255.000000</td>\n",
       "      <td>...</td>\n",
       "      <td>0.0</td>\n",
       "      <td>0.0</td>\n",
       "      <td>0.0</td>\n",
       "      <td>0.0</td>\n",
       "      <td>1.0</td>\n",
       "      <td>0.0</td>\n",
       "      <td>0.0</td>\n",
       "      <td>1.0</td>\n",
       "      <td>0.0</td>\n",
       "      <td>0.0</td>\n",
       "    </tr>\n",
       "    <tr>\n",
       "      <th>...</th>\n",
       "      <td>...</td>\n",
       "      <td>...</td>\n",
       "      <td>...</td>\n",
       "      <td>...</td>\n",
       "      <td>...</td>\n",
       "      <td>...</td>\n",
       "      <td>...</td>\n",
       "      <td>...</td>\n",
       "      <td>...</td>\n",
       "      <td>...</td>\n",
       "      <td>...</td>\n",
       "      <td>...</td>\n",
       "      <td>...</td>\n",
       "      <td>...</td>\n",
       "      <td>...</td>\n",
       "      <td>...</td>\n",
       "      <td>...</td>\n",
       "      <td>...</td>\n",
       "      <td>...</td>\n",
       "      <td>...</td>\n",
       "      <td>...</td>\n",
       "    </tr>\n",
       "    <tr>\n",
       "      <th>2378</th>\n",
       "      <td>8800.0</td>\n",
       "      <td>2010.0</td>\n",
       "      <td>312.0</td>\n",
       "      <td>3.0</td>\n",
       "      <td>4.000000</td>\n",
       "      <td>100000.0</td>\n",
       "      <td>2.678899</td>\n",
       "      <td>518.0</td>\n",
       "      <td>140.316349</td>\n",
       "      <td>126.695436</td>\n",
       "      <td>...</td>\n",
       "      <td>1.0</td>\n",
       "      <td>0.0</td>\n",
       "      <td>0.0</td>\n",
       "      <td>0.0</td>\n",
       "      <td>0.0</td>\n",
       "      <td>1.0</td>\n",
       "      <td>0.0</td>\n",
       "      <td>1.0</td>\n",
       "      <td>0.0</td>\n",
       "      <td>0.0</td>\n",
       "    </tr>\n",
       "    <tr>\n",
       "      <th>2379</th>\n",
       "      <td>4500.0</td>\n",
       "      <td>2007.0</td>\n",
       "      <td>312.0</td>\n",
       "      <td>2.0</td>\n",
       "      <td>4.000000</td>\n",
       "      <td>112000.0</td>\n",
       "      <td>3.000000</td>\n",
       "      <td>644.0</td>\n",
       "      <td>255.000000</td>\n",
       "      <td>0.000000</td>\n",
       "      <td>...</td>\n",
       "      <td>1.0</td>\n",
       "      <td>0.0</td>\n",
       "      <td>0.0</td>\n",
       "      <td>0.0</td>\n",
       "      <td>0.0</td>\n",
       "      <td>1.0</td>\n",
       "      <td>0.0</td>\n",
       "      <td>1.0</td>\n",
       "      <td>0.0</td>\n",
       "      <td>0.0</td>\n",
       "    </tr>\n",
       "    <tr>\n",
       "      <th>2380</th>\n",
       "      <td>18888.0</td>\n",
       "      <td>2018.0</td>\n",
       "      <td>312.0</td>\n",
       "      <td>2.0</td>\n",
       "      <td>4.767808</td>\n",
       "      <td>40216.0</td>\n",
       "      <td>2.910067</td>\n",
       "      <td>644.0</td>\n",
       "      <td>0.000000</td>\n",
       "      <td>0.000000</td>\n",
       "      <td>...</td>\n",
       "      <td>1.0</td>\n",
       "      <td>0.0</td>\n",
       "      <td>0.0</td>\n",
       "      <td>0.0</td>\n",
       "      <td>0.0</td>\n",
       "      <td>0.0</td>\n",
       "      <td>1.0</td>\n",
       "      <td>1.0</td>\n",
       "      <td>0.0</td>\n",
       "      <td>0.0</td>\n",
       "    </tr>\n",
       "    <tr>\n",
       "      <th>2383</th>\n",
       "      <td>24070.0</td>\n",
       "      <td>2018.0</td>\n",
       "      <td>179.0</td>\n",
       "      <td>5.0</td>\n",
       "      <td>4.000000</td>\n",
       "      <td>4000.0</td>\n",
       "      <td>2.678899</td>\n",
       "      <td>131.0</td>\n",
       "      <td>139.779233</td>\n",
       "      <td>131.216956</td>\n",
       "      <td>...</td>\n",
       "      <td>1.0</td>\n",
       "      <td>0.0</td>\n",
       "      <td>0.0</td>\n",
       "      <td>0.0</td>\n",
       "      <td>0.0</td>\n",
       "      <td>0.0</td>\n",
       "      <td>1.0</td>\n",
       "      <td>1.0</td>\n",
       "      <td>0.0</td>\n",
       "      <td>0.0</td>\n",
       "    </tr>\n",
       "    <tr>\n",
       "      <th>2387</th>\n",
       "      <td>7000.0</td>\n",
       "      <td>1996.0</td>\n",
       "      <td>113.0</td>\n",
       "      <td>5.0</td>\n",
       "      <td>4.000000</td>\n",
       "      <td>68250.0</td>\n",
       "      <td>2.000000</td>\n",
       "      <td>52.0</td>\n",
       "      <td>0.000000</td>\n",
       "      <td>128.000000</td>\n",
       "      <td>...</td>\n",
       "      <td>0.0</td>\n",
       "      <td>0.0</td>\n",
       "      <td>0.0</td>\n",
       "      <td>0.0</td>\n",
       "      <td>1.0</td>\n",
       "      <td>0.0</td>\n",
       "      <td>0.0</td>\n",
       "      <td>0.0</td>\n",
       "      <td>1.0</td>\n",
       "      <td>0.0</td>\n",
       "    </tr>\n",
       "  </tbody>\n",
       "</table>\n",
       "<p>821 rows × 22 columns</p>\n",
       "</div>"
      ],
      "text/plain": [
       "        price    year  maker  condition  cylinders  odometer      size   type  \\\n",
       "0     19800.0  2000.0  293.0        5.0   8.000000   75000.0  4.000000   91.0   \n",
       "4      5000.0  2003.0  113.0        5.0   8.000000  114734.0  4.000000  361.0   \n",
       "5     30808.0  2018.0   78.0        5.0   4.000000   39960.0  2.000000  644.0   \n",
       "8     11300.0  2005.0  179.0        2.0   8.000000  162000.0  4.000000   91.0   \n",
       "20     1500.0  1997.0  179.0        2.0   8.000000  286000.0  4.000000   91.0   \n",
       "...       ...     ...    ...        ...        ...       ...       ...    ...   \n",
       "2378   8800.0  2010.0  312.0        3.0   4.000000  100000.0  2.678899  518.0   \n",
       "2379   4500.0  2007.0  312.0        2.0   4.000000  112000.0  3.000000  644.0   \n",
       "2380  18888.0  2018.0  312.0        2.0   4.767808   40216.0  2.910067  644.0   \n",
       "2383  24070.0  2018.0  179.0        5.0   4.000000    4000.0  2.678899  131.0   \n",
       "2387   7000.0  1996.0  113.0        5.0   4.000000   68250.0  2.000000   52.0   \n",
       "\n",
       "         color_r     color_g  ...  drive_fwd  drive_rwd  fuel_diesel  \\\n",
       "0     192.000000  192.000000  ...        0.0        1.0          0.0   \n",
       "4     192.000000  192.000000  ...        0.0        0.0          0.0   \n",
       "5     255.000000    0.000000  ...        0.0        0.0          0.0   \n",
       "8     128.000000  128.000000  ...        0.0        0.0          0.0   \n",
       "20    255.000000  255.000000  ...        0.0        0.0          0.0   \n",
       "...          ...         ...  ...        ...        ...          ...   \n",
       "2378  140.316349  126.695436  ...        1.0        0.0          0.0   \n",
       "2379  255.000000    0.000000  ...        1.0        0.0          0.0   \n",
       "2380    0.000000    0.000000  ...        1.0        0.0          0.0   \n",
       "2383  139.779233  131.216956  ...        1.0        0.0          0.0   \n",
       "2387    0.000000  128.000000  ...        0.0        0.0          0.0   \n",
       "\n",
       "      fuel_electric  fuel_gas  fuel_hybrid  fuel_other  \\\n",
       "0               0.0       1.0          0.0         0.0   \n",
       "4               0.0       1.0          0.0         0.0   \n",
       "5               0.0       1.0          0.0         0.0   \n",
       "8               0.0       1.0          0.0         0.0   \n",
       "20              0.0       1.0          0.0         0.0   \n",
       "...             ...       ...          ...         ...   \n",
       "2378            0.0       0.0          1.0         0.0   \n",
       "2379            0.0       0.0          1.0         0.0   \n",
       "2380            0.0       0.0          0.0         1.0   \n",
       "2383            0.0       0.0          0.0         1.0   \n",
       "2387            0.0       1.0          0.0         0.0   \n",
       "\n",
       "      transmission_automatic  transmission_manual  transmission_other  \n",
       "0                        1.0                  0.0                 0.0  \n",
       "4                        1.0                  0.0                 0.0  \n",
       "5                        0.0                  1.0                 0.0  \n",
       "8                        1.0                  0.0                 0.0  \n",
       "20                       1.0                  0.0                 0.0  \n",
       "...                      ...                  ...                 ...  \n",
       "2378                     1.0                  0.0                 0.0  \n",
       "2379                     1.0                  0.0                 0.0  \n",
       "2380                     1.0                  0.0                 0.0  \n",
       "2383                     1.0                  0.0                 0.0  \n",
       "2387                     0.0                  1.0                 0.0  \n",
       "\n",
       "[821 rows x 22 columns]"
      ]
     },
     "execution_count": 124,
     "metadata": {},
     "output_type": "execute_result"
    }
   ],
   "source": [
    "M_train_df.loc[np.where(y_pred_train == -1)[0]]"
   ]
  },
  {
   "cell_type": "code",
   "execution_count": 125,
   "metadata": {},
   "outputs": [
    {
     "data": {
      "text/html": [
       "<div>\n",
       "<style scoped>\n",
       "    .dataframe tbody tr th:only-of-type {\n",
       "        vertical-align: middle;\n",
       "    }\n",
       "\n",
       "    .dataframe tbody tr th {\n",
       "        vertical-align: top;\n",
       "    }\n",
       "\n",
       "    .dataframe thead th {\n",
       "        text-align: right;\n",
       "    }\n",
       "</style>\n",
       "<table border=\"1\" class=\"dataframe\">\n",
       "  <thead>\n",
       "    <tr style=\"text-align: right;\">\n",
       "      <th></th>\n",
       "      <th>price</th>\n",
       "      <th>year</th>\n",
       "      <th>maker</th>\n",
       "      <th>condition</th>\n",
       "      <th>cylinders</th>\n",
       "      <th>odometer</th>\n",
       "      <th>size</th>\n",
       "      <th>type</th>\n",
       "      <th>color_r</th>\n",
       "      <th>color_g</th>\n",
       "      <th>...</th>\n",
       "      <th>drive_fwd</th>\n",
       "      <th>drive_rwd</th>\n",
       "      <th>fuel_diesel</th>\n",
       "      <th>fuel_electric</th>\n",
       "      <th>fuel_gas</th>\n",
       "      <th>fuel_hybrid</th>\n",
       "      <th>fuel_other</th>\n",
       "      <th>transmission_automatic</th>\n",
       "      <th>transmission_manual</th>\n",
       "      <th>transmission_other</th>\n",
       "    </tr>\n",
       "  </thead>\n",
       "  <tbody>\n",
       "    <tr>\n",
       "      <th>2</th>\n",
       "      <td>11995.0</td>\n",
       "      <td>2013.0</td>\n",
       "      <td>179.0</td>\n",
       "      <td>5.0</td>\n",
       "      <td>6.000000</td>\n",
       "      <td>82785.000000</td>\n",
       "      <td>2.000000</td>\n",
       "      <td>127.0</td>\n",
       "      <td>0.000000</td>\n",
       "      <td>0.000000</td>\n",
       "      <td>...</td>\n",
       "      <td>0.0</td>\n",
       "      <td>1.0</td>\n",
       "      <td>0.0</td>\n",
       "      <td>0.0</td>\n",
       "      <td>1.0</td>\n",
       "      <td>0.0</td>\n",
       "      <td>0.0</td>\n",
       "      <td>1.0</td>\n",
       "      <td>0.0</td>\n",
       "      <td>0.0</td>\n",
       "    </tr>\n",
       "    <tr>\n",
       "      <th>5</th>\n",
       "      <td>5500.0</td>\n",
       "      <td>1997.0</td>\n",
       "      <td>81.0</td>\n",
       "      <td>2.0</td>\n",
       "      <td>8.000000</td>\n",
       "      <td>185735.000000</td>\n",
       "      <td>4.000000</td>\n",
       "      <td>26.0</td>\n",
       "      <td>0.000000</td>\n",
       "      <td>0.000000</td>\n",
       "      <td>...</td>\n",
       "      <td>1.0</td>\n",
       "      <td>0.0</td>\n",
       "      <td>0.0</td>\n",
       "      <td>0.0</td>\n",
       "      <td>1.0</td>\n",
       "      <td>0.0</td>\n",
       "      <td>0.0</td>\n",
       "      <td>1.0</td>\n",
       "      <td>0.0</td>\n",
       "      <td>0.0</td>\n",
       "    </tr>\n",
       "    <tr>\n",
       "      <th>9</th>\n",
       "      <td>2700.0</td>\n",
       "      <td>2005.0</td>\n",
       "      <td>39.0</td>\n",
       "      <td>5.0</td>\n",
       "      <td>6.000000</td>\n",
       "      <td>207000.000000</td>\n",
       "      <td>3.000000</td>\n",
       "      <td>361.0</td>\n",
       "      <td>192.000000</td>\n",
       "      <td>192.000000</td>\n",
       "      <td>...</td>\n",
       "      <td>0.0</td>\n",
       "      <td>0.0</td>\n",
       "      <td>0.0</td>\n",
       "      <td>0.0</td>\n",
       "      <td>1.0</td>\n",
       "      <td>0.0</td>\n",
       "      <td>0.0</td>\n",
       "      <td>1.0</td>\n",
       "      <td>0.0</td>\n",
       "      <td>0.0</td>\n",
       "    </tr>\n",
       "    <tr>\n",
       "      <th>12</th>\n",
       "      <td>331.0</td>\n",
       "      <td>2018.0</td>\n",
       "      <td>293.0</td>\n",
       "      <td>2.0</td>\n",
       "      <td>6.035161</td>\n",
       "      <td>2211.000000</td>\n",
       "      <td>3.291635</td>\n",
       "      <td>105.0</td>\n",
       "      <td>255.000000</td>\n",
       "      <td>255.000000</td>\n",
       "      <td>...</td>\n",
       "      <td>0.0</td>\n",
       "      <td>0.0</td>\n",
       "      <td>0.0</td>\n",
       "      <td>0.0</td>\n",
       "      <td>0.0</td>\n",
       "      <td>0.0</td>\n",
       "      <td>1.0</td>\n",
       "      <td>1.0</td>\n",
       "      <td>0.0</td>\n",
       "      <td>0.0</td>\n",
       "    </tr>\n",
       "    <tr>\n",
       "      <th>14</th>\n",
       "      <td>23995.0</td>\n",
       "      <td>2017.0</td>\n",
       "      <td>113.0</td>\n",
       "      <td>2.0</td>\n",
       "      <td>6.525059</td>\n",
       "      <td>35760.000000</td>\n",
       "      <td>3.331223</td>\n",
       "      <td>105.0</td>\n",
       "      <td>255.000000</td>\n",
       "      <td>255.000000</td>\n",
       "      <td>...</td>\n",
       "      <td>0.0</td>\n",
       "      <td>1.0</td>\n",
       "      <td>0.0</td>\n",
       "      <td>0.0</td>\n",
       "      <td>0.0</td>\n",
       "      <td>0.0</td>\n",
       "      <td>1.0</td>\n",
       "      <td>1.0</td>\n",
       "      <td>0.0</td>\n",
       "      <td>0.0</td>\n",
       "    </tr>\n",
       "    <tr>\n",
       "      <th>...</th>\n",
       "      <td>...</td>\n",
       "      <td>...</td>\n",
       "      <td>...</td>\n",
       "      <td>...</td>\n",
       "      <td>...</td>\n",
       "      <td>...</td>\n",
       "      <td>...</td>\n",
       "      <td>...</td>\n",
       "      <td>...</td>\n",
       "      <td>...</td>\n",
       "      <td>...</td>\n",
       "      <td>...</td>\n",
       "      <td>...</td>\n",
       "      <td>...</td>\n",
       "      <td>...</td>\n",
       "      <td>...</td>\n",
       "      <td>...</td>\n",
       "      <td>...</td>\n",
       "      <td>...</td>\n",
       "      <td>...</td>\n",
       "      <td>...</td>\n",
       "    </tr>\n",
       "    <tr>\n",
       "      <th>576</th>\n",
       "      <td>60000.0</td>\n",
       "      <td>2009.0</td>\n",
       "      <td>1.0</td>\n",
       "      <td>5.0</td>\n",
       "      <td>12.000000</td>\n",
       "      <td>51500.000000</td>\n",
       "      <td>4.000000</td>\n",
       "      <td>127.0</td>\n",
       "      <td>192.000000</td>\n",
       "      <td>192.000000</td>\n",
       "      <td>...</td>\n",
       "      <td>0.0</td>\n",
       "      <td>0.0</td>\n",
       "      <td>0.0</td>\n",
       "      <td>0.0</td>\n",
       "      <td>1.0</td>\n",
       "      <td>0.0</td>\n",
       "      <td>0.0</td>\n",
       "      <td>1.0</td>\n",
       "      <td>0.0</td>\n",
       "      <td>0.0</td>\n",
       "    </tr>\n",
       "    <tr>\n",
       "      <th>579</th>\n",
       "      <td>6.0</td>\n",
       "      <td>1988.0</td>\n",
       "      <td>2.0</td>\n",
       "      <td>2.0</td>\n",
       "      <td>4.000000</td>\n",
       "      <td>178054.445656</td>\n",
       "      <td>2.000000</td>\n",
       "      <td>361.0</td>\n",
       "      <td>0.000000</td>\n",
       "      <td>0.000000</td>\n",
       "      <td>...</td>\n",
       "      <td>0.0</td>\n",
       "      <td>0.0</td>\n",
       "      <td>0.0</td>\n",
       "      <td>0.0</td>\n",
       "      <td>1.0</td>\n",
       "      <td>0.0</td>\n",
       "      <td>0.0</td>\n",
       "      <td>0.0</td>\n",
       "      <td>1.0</td>\n",
       "      <td>0.0</td>\n",
       "    </tr>\n",
       "    <tr>\n",
       "      <th>581</th>\n",
       "      <td>4500.0</td>\n",
       "      <td>1989.0</td>\n",
       "      <td>81.0</td>\n",
       "      <td>2.0</td>\n",
       "      <td>8.000000</td>\n",
       "      <td>185913.966863</td>\n",
       "      <td>3.775291</td>\n",
       "      <td>91.0</td>\n",
       "      <td>139.965633</td>\n",
       "      <td>131.895096</td>\n",
       "      <td>...</td>\n",
       "      <td>0.0</td>\n",
       "      <td>1.0</td>\n",
       "      <td>0.0</td>\n",
       "      <td>0.0</td>\n",
       "      <td>1.0</td>\n",
       "      <td>0.0</td>\n",
       "      <td>0.0</td>\n",
       "      <td>1.0</td>\n",
       "      <td>0.0</td>\n",
       "      <td>0.0</td>\n",
       "    </tr>\n",
       "    <tr>\n",
       "      <th>582</th>\n",
       "      <td>4500.0</td>\n",
       "      <td>2002.0</td>\n",
       "      <td>30.0</td>\n",
       "      <td>5.0</td>\n",
       "      <td>8.000000</td>\n",
       "      <td>152000.000000</td>\n",
       "      <td>3.000000</td>\n",
       "      <td>127.0</td>\n",
       "      <td>255.000000</td>\n",
       "      <td>0.000000</td>\n",
       "      <td>...</td>\n",
       "      <td>1.0</td>\n",
       "      <td>0.0</td>\n",
       "      <td>0.0</td>\n",
       "      <td>0.0</td>\n",
       "      <td>1.0</td>\n",
       "      <td>0.0</td>\n",
       "      <td>0.0</td>\n",
       "      <td>1.0</td>\n",
       "      <td>0.0</td>\n",
       "      <td>0.0</td>\n",
       "    </tr>\n",
       "    <tr>\n",
       "      <th>585</th>\n",
       "      <td>26995.0</td>\n",
       "      <td>2016.0</td>\n",
       "      <td>60.0</td>\n",
       "      <td>2.0</td>\n",
       "      <td>8.000000</td>\n",
       "      <td>58410.000000</td>\n",
       "      <td>3.775291</td>\n",
       "      <td>127.0</td>\n",
       "      <td>0.000000</td>\n",
       "      <td>0.000000</td>\n",
       "      <td>...</td>\n",
       "      <td>0.0</td>\n",
       "      <td>1.0</td>\n",
       "      <td>0.0</td>\n",
       "      <td>0.0</td>\n",
       "      <td>0.0</td>\n",
       "      <td>0.0</td>\n",
       "      <td>1.0</td>\n",
       "      <td>0.0</td>\n",
       "      <td>1.0</td>\n",
       "      <td>0.0</td>\n",
       "    </tr>\n",
       "  </tbody>\n",
       "</table>\n",
       "<p>198 rows × 22 columns</p>\n",
       "</div>"
      ],
      "text/plain": [
       "       price    year  maker  condition  cylinders       odometer      size  \\\n",
       "2    11995.0  2013.0  179.0        5.0   6.000000   82785.000000  2.000000   \n",
       "5     5500.0  1997.0   81.0        2.0   8.000000  185735.000000  4.000000   \n",
       "9     2700.0  2005.0   39.0        5.0   6.000000  207000.000000  3.000000   \n",
       "12     331.0  2018.0  293.0        2.0   6.035161    2211.000000  3.291635   \n",
       "14   23995.0  2017.0  113.0        2.0   6.525059   35760.000000  3.331223   \n",
       "..       ...     ...    ...        ...        ...            ...       ...   \n",
       "576  60000.0  2009.0    1.0        5.0  12.000000   51500.000000  4.000000   \n",
       "579      6.0  1988.0    2.0        2.0   4.000000  178054.445656  2.000000   \n",
       "581   4500.0  1989.0   81.0        2.0   8.000000  185913.966863  3.775291   \n",
       "582   4500.0  2002.0   30.0        5.0   8.000000  152000.000000  3.000000   \n",
       "585  26995.0  2016.0   60.0        2.0   8.000000   58410.000000  3.775291   \n",
       "\n",
       "      type     color_r     color_g  ...  drive_fwd  drive_rwd  fuel_diesel  \\\n",
       "2    127.0    0.000000    0.000000  ...        0.0        1.0          0.0   \n",
       "5     26.0    0.000000    0.000000  ...        1.0        0.0          0.0   \n",
       "9    361.0  192.000000  192.000000  ...        0.0        0.0          0.0   \n",
       "12   105.0  255.000000  255.000000  ...        0.0        0.0          0.0   \n",
       "14   105.0  255.000000  255.000000  ...        0.0        1.0          0.0   \n",
       "..     ...         ...         ...  ...        ...        ...          ...   \n",
       "576  127.0  192.000000  192.000000  ...        0.0        0.0          0.0   \n",
       "579  361.0    0.000000    0.000000  ...        0.0        0.0          0.0   \n",
       "581   91.0  139.965633  131.895096  ...        0.0        1.0          0.0   \n",
       "582  127.0  255.000000    0.000000  ...        1.0        0.0          0.0   \n",
       "585  127.0    0.000000    0.000000  ...        0.0        1.0          0.0   \n",
       "\n",
       "     fuel_electric  fuel_gas  fuel_hybrid  fuel_other  transmission_automatic  \\\n",
       "2              0.0       1.0          0.0         0.0                     1.0   \n",
       "5              0.0       1.0          0.0         0.0                     1.0   \n",
       "9              0.0       1.0          0.0         0.0                     1.0   \n",
       "12             0.0       0.0          0.0         1.0                     1.0   \n",
       "14             0.0       0.0          0.0         1.0                     1.0   \n",
       "..             ...       ...          ...         ...                     ...   \n",
       "576            0.0       1.0          0.0         0.0                     1.0   \n",
       "579            0.0       1.0          0.0         0.0                     0.0   \n",
       "581            0.0       1.0          0.0         0.0                     1.0   \n",
       "582            0.0       1.0          0.0         0.0                     1.0   \n",
       "585            0.0       0.0          0.0         1.0                     0.0   \n",
       "\n",
       "     transmission_manual  transmission_other  \n",
       "2                    0.0                 0.0  \n",
       "5                    0.0                 0.0  \n",
       "9                    0.0                 0.0  \n",
       "12                   0.0                 0.0  \n",
       "14                   0.0                 0.0  \n",
       "..                   ...                 ...  \n",
       "576                  0.0                 0.0  \n",
       "579                  1.0                 0.0  \n",
       "581                  0.0                 0.0  \n",
       "582                  0.0                 0.0  \n",
       "585                  1.0                 0.0  \n",
       "\n",
       "[198 rows x 22 columns]"
      ]
     },
     "execution_count": 125,
     "metadata": {},
     "output_type": "execute_result"
    }
   ],
   "source": [
    "M_test_df.loc[np.where(y_pred_test == -1)[0]]"
   ]
  },
  {
   "cell_type": "code",
   "execution_count": null,
   "metadata": {},
   "outputs": [],
   "source": []
  }
 ],
 "metadata": {
  "kernelspec": {
   "display_name": "Python 3",
   "language": "python",
   "name": "python3"
  },
  "language_info": {
   "codemirror_mode": {
    "name": "ipython",
    "version": 3
   },
   "file_extension": ".py",
   "mimetype": "text/x-python",
   "name": "python",
   "nbconvert_exporter": "python",
   "pygments_lexer": "ipython3",
   "version": "3.6.9"
  }
 },
 "nbformat": 4,
 "nbformat_minor": 2
}
